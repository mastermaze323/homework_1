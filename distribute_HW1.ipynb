{
  "nbformat": 4,
  "nbformat_minor": 0,
  "metadata": {
    "colab": {
      "name": "distribute_HW1.ipynb",
      "provenance": [],
      "collapsed_sections": [
        "EBJ95eXwlm-i",
        "lg-gMIZTlm_B",
        "vkU3G3UDH6yn",
        "bhy0LnUiIIjE"
      ]
    },
    "kernelspec": {
      "display_name": "Python 3",
      "language": "python",
      "name": "python3"
    },
    "language_info": {
      "codemirror_mode": {
        "name": "ipython",
        "version": 3
      },
      "file_extension": ".py",
      "mimetype": "text/x-python",
      "name": "python",
      "nbconvert_exporter": "python",
      "pygments_lexer": "ipython3",
      "version": "3.7.6"
    }
  },
  "cells": [
    {
      "cell_type": "markdown",
      "metadata": {
        "id": "hTAwWJ5Qlmwk"
      },
      "source": [
        "<img src=\"https://drive.google.com/uc?export=view&id=1nMaBQ7g88duMECw_B4mH8ruxwnIwVzGP\" width=300/> \n",
        "\n",
        "# ML-1: Exploratory Data Analysis, Visualisation & Modeling\n",
        "## Homework 1: Who is the best singer ever?\n",
        "\n",
        "**ML-1 Cohort 1** <br>\n",
        "**Instructor: Dr. Rahul Dave**<br>\n",
        "**Max Score: 100** <br>"
      ]
    },
    {
      "cell_type": "markdown",
      "metadata": {
        "id": "Bv36XfX2X_Sh"
      },
      "source": [
        "Name of people who have worked on this homework:\r\n",
        "\r\n",
        "Akshay Kumar, Aziza Mirsaidova \r\n"
      ]
    },
    {
      "cell_type": "markdown",
      "metadata": {
        "id": "RZLSPjS6_8GD"
      },
      "source": [
        "## Table of Contents \r\n",
        "* [HW-1: Who is the best singer ever?](#HW-1:-Who-is-the-best-singer-ever?)\r\n",
        "  * [Instructions](##Instructions)\r\n",
        "  * [Learning Goals](##Learning-Goals)\r\n",
        "  * [Q1: Scrape and Parse Wikipedia for Billboard Top 100](##Q1:-Scrape-and-Parse-Wikipedia-for-Billboard-Top-100)\r\n",
        "    * [1.1 Scrape and Parse the Billboard Wikipedia's page for 1970](###1.1-Scrape-and-Parse-the-Billboard-Wikipedia's-page-for-1970)\r\n",
        "    * [1.2 Scrape Billboard Wikipedia's pages from 1992 to 2020](###1.2-Scrape-Billboard-Wikipedia's-pages-from-1992-to-2020)\r\n",
        "    * [1.3 Parse the data](###1.3-Parse-the-data)\r\n",
        "  * [Q2: Construct a year-song-singer dataframe](##Q2:-Construct-a-year-song-singer-dataframe)\r\n",
        "  * [Q3: Scrape and Parse Wikipedia for Information about Artists and Bands](##Q3:-Scrape-and-Parse-Wikipedia-for-Information-about-Artists-and-Bands)\r\n",
        "    * [3.1 Scrape the artist's Wikipedia webpages](###3.1-Scrape-the-artist's-Wikipedia-webpages)\r\n",
        "    * [3.2 Parse the data](###3.2-Parse-the-data)\r\n",
        "  * [Q4: Merging Artist's and Song dataframes](##Q4:-Merging-Artist's-and-Song-dataframes)\r\n",
        "  * [Q5: Pandas and Relational databases](##Q5:-Pandas-and-Relational-databases)\r\n",
        "    * [5.1 Populating the database](###5.1-Populating-the-database)\r\n",
        "    * [5.2 Performing operations on the database](####5.2-Performing-operations-on-the-database)\r\n",
        "      * [5.2.1 Select all singers below the age of 20 whos Zodiac Sign is Scorpio!](####5.2.1-Select-all-singers-below-the-age-of-20-whos-Zodiac-Sign-is-Scorpio!)\r\n",
        "      * [5.2.2 Find the most popular artists with most appearances in Billboard Top 10](####5.2.2-Find-the-most-popular-artists-with-most-appearances-in-Billboard-Top-10)\r\n",
        "      * [5.2.3 Select all songs with ranking less than 6 and order the rows by artist name](####5.2.3-Select-all-songs-with-ranking-less-than-6-and-order-the-rows-by-artist-name)\r\n"
      ]
    },
    {
      "cell_type": "markdown",
      "metadata": {
        "id": "vym0YdCZYCeS"
      },
      "source": [
        "## Instructions"
      ]
    },
    {
      "cell_type": "markdown",
      "metadata": {
        "id": "PMkXfrJWYDtC"
      },
      "source": [
        "- This homework should be submitted in pairs.\r\n",
        "\r\n",
        "- Ensure you and your partner together have submitted the homework only once. Multiple submissions of the same work will be penalised and will cost you 2 points.\r\n",
        "\r\n",
        "- Please restart the kernel and run the entire notebook again before you submit.\r\n",
        "\r\n",
        "- Running cells out of order is a common pitfall in Notebooks. To make sure your code works restart the kernel and run the whole notebook again before you submit. \r\n",
        "\r\n",
        "- To work on the homework, you will first need to fork the repository into your GitHub account and clone it to work on it on your local computer. To submit your homework, push your homework into the same GitHub and upload the link on edStem.\r\n",
        "\r\n",
        "- Submit the homework well before the given deadline. Submissions after the deadline will not be graded.\r\n",
        "\r\n",
        "- We have tried to include all the libraries you may need to do the assignment in the imports statement at the top of this notebook. We strongly suggest that you use those and not others as we may not be familiar with them.\r\n",
        "\r\n",
        "- Comment your code well. This would help the graders in case there is any issue with the notebook while running. It is important to remember that the graders will not troubleshoot your code. \r\n",
        "\r\n",
        "- Please use .head() when viewing data. Do not submit a notebook that is **excessively long**. \r\n",
        "\r\n",
        "- In questions that require code to answer, such as \"calculate the $R^2$\", do not just output the value from a cell. Write a `print()` function that includes a reference to the calculated value, **not hardcoded**. For example: \r\n",
        "```\r\n",
        "print(f'The R^2 is {R:.4f}')\r\n",
        "```\r\n",
        "- Your plots should include clear labels for the $x$ and $y$ axes as well as a descriptive title (\"MSE plot\" is not a descriptive title; \"95 % confidence interval of coefficients of polynomial degree 5\" is).\r\n",
        "\r\n",
        "- **Ensure you make appropriate plots for all the questions it is applicable to, regardless of it being explicitly asked for.**\r\n",
        "\r\n",
        "<hr style=\"height:2pt\">"
      ]
    },
    {
      "cell_type": "markdown",
      "metadata": {
        "id": "Zv8VWFhP_32L"
      },
      "source": [
        "## Learning Goals"
      ]
    },
    {
      "cell_type": "markdown",
      "metadata": {
        "id": "WmqsUs9Olm18"
      },
      "source": [
        "Billboard Magazine puts out a top 100 list of \"singles\" every **year**. \n",
        "In the next two homeworks, you will scrape Wikipedia to try to understand how the public's taste in music has evolved. You will do this by learning about the best singers and groups from each year as determined by the Billboard top 100 charts.\n",
        "\n",
        "This homework consists of five main parts:\n",
        "\n",
        "1. Scraping and Parsing [Wikipedia's Billboard Top 100 singles](https://en.wikipedia.org/wiki/Billboard_Year-End_Hot_100_singles_of_2020) list for every year <br>\n",
        "2. Constructing a year-song-singer dataframe from the scraped data\n",
        "3. Scraping and Parsing Wikipedia's information about the Artists from these Songs \n",
        "4. Merging in both the above dataframes \n",
        "5. Using a Relational Database to perform SQL queries"
      ]
    },
    {
      "cell_type": "markdown",
      "metadata": {
        "id": "EUHkcabZlm2Q"
      },
      "source": [
        "This homework will help develop your skills in:\n",
        "\n",
        "- Web page scraping\n",
        "- Data cleaning and manipulation\n",
        "- Pandas and SQL"
      ]
    },
    {
      "cell_type": "code",
      "metadata": {
        "colab": {
          "base_uri": "https://localhost:8080/"
        },
        "id": "VvwrMPa8Nv5W",
        "outputId": "917e669b-1a7d-4f6a-de2f-f937d074f512"
      },
      "source": [
        "from google.colab import drive\r\n",
        "\r\n",
        "drive.mount('/content/gdrive')"
      ],
      "execution_count": null,
      "outputs": [
        {
          "output_type": "stream",
          "text": [
            "Mounted at /content/gdrive\n"
          ],
          "name": "stdout"
        }
      ]
    },
    {
      "cell_type": "markdown",
      "metadata": {
        "id": "GW_1toqQlm21"
      },
      "source": [
        "---"
      ]
    },
    {
      "cell_type": "code",
      "metadata": {
        "id": "deZ11vb4lm3e",
        "jupyter": {
          "outputs_hidden": false
        }
      },
      "source": [
        "#Import libraries\n",
        "%matplotlib inline\n",
        "import numpy as np\n",
        "import matplotlib.pyplot as plt\n",
        "import pandas as pd\n",
        "import time\n",
        "import json\n",
        "import re\n",
        "import requests"
      ],
      "execution_count": null,
      "outputs": []
    },
    {
      "cell_type": "code",
      "metadata": {
        "colab": {
          "base_uri": "https://localhost:8080/"
        },
        "id": "Z4vfXAnIK_K5",
        "outputId": "113aa846-732c-46dc-b70b-efc68d0c4f3d"
      },
      "source": [
        "!unzip /content/Homework1-master.zip"
      ],
      "execution_count": null,
      "outputs": [
        {
          "output_type": "stream",
          "text": [
            "unzip:  cannot find or open /content/Homework1-master.zip, /content/Homework1-master.zip.zip or /content/Homework1-master.zip.ZIP.\n"
          ],
          "name": "stdout"
        }
      ]
    },
    {
      "cell_type": "markdown",
      "metadata": {
        "id": "X4necLqglm3p"
      },
      "source": [
        "## Q1: Scrape and Parse Wikipedia for Billboard Top 100\n",
        "#### [20 Points]"
      ]
    },
    {
      "cell_type": "markdown",
      "metadata": {
        "id": "3_ajVEDhlm3t"
      },
      "source": [
        "In this first question you will scrape wikipedia for Billboard's top 100.\r\n",
        "\r\n",
        "We will be using [BeautifulSoup](http://www.crummy.com/software/BeautifulSoup/) to transform HTML content into Python data structures. There are other libraries such as [PyQuery](https://pythonhosted.org/pyquery/) (for people who have used [jQuery](https://jquery.com/) that can also be used)."
      ]
    },
    {
      "cell_type": "code",
      "metadata": {
        "id": "c4bbGU0glm3_",
        "jupyter": {
          "outputs_hidden": false
        }
      },
      "source": [
        "#Import Beautiful Soup\r\n",
        "from bs4 import BeautifulSoup"
      ],
      "execution_count": null,
      "outputs": []
    },
    {
      "cell_type": "markdown",
      "metadata": {
        "id": "54udQNZ-lm4F"
      },
      "source": [
        "### 1.1 Scrape and Parse the Billboard Wikipedia's page for 1970"
      ]
    },
    {
      "cell_type": "markdown",
      "metadata": {
        "id": "MtxCwDBqlm4f"
      },
      "source": [
        "Use python's `requests` module to obtain (GET) the web page at http://en.wikipedia.org/wiki/Billboard_Year-End_Hot_100_singles_of_1970. \n",
        "From this web page, extract the top 100 singles and their rankings. \n",
        "\n",
        "\n",
        "To do this, create a list of dictionaries, 100 of them to be precise, with the following entries: `{'url': '/wiki/Sugarloaf_(band)', 'ranking': 30, 'band_singer': 'Sugarloaf', 'title': 'Green-Eyed Lady'}`. \n",
        "\n",
        "Name this list of dictionaries `songs`.\n",
        "\n",
        "\n",
        "Here, `url` should be the link for the singer or band (observe that on the web page, there is a link for every song and artist), `ranking` is the ranking of the song, `band_singer` should be the name of the artist(s) and `title` should be the title of the song.\n",
        "\n",
        "\n",
        "We are extracting the `url` of the artist(s) to use at a later stage in the homework."
      ]
    },
    {
      "cell_type": "markdown",
      "metadata": {
        "id": "k1srjTzGlm4t"
      },
      "source": [
        "*Hint:*\n",
        "While parsing the HTML, look for the HTML _tr_ (table row) element, but only the one that has a CSS class of _wikitable_. If you look at the page source, you'll see a construct like __class=wikitable__ on the table as seen below:\n",
        "\n",
        "\n",
        "\n",
        "![Wikipage](\n",
        "https://drive.google.com/uc?export=view&id=1ntewsqyZVH6_RETloTQgrWIyQJAa_02D) "
      ]
    },
    {
      "cell_type": "code",
      "metadata": {
        "id": "teLpU_AZlm4o",
        "jupyter": {
          "outputs_hidden": false
        },
        "colab": {
          "base_uri": "https://localhost:8080/"
        },
        "outputId": "e1da00c7-619e-44db-d4d6-2b5f6d534b0e"
      },
      "source": [
        "#Get the webpage\r\n",
        "t1970=requests.get(\"http://en.wikipedia.org/wiki/Billboard_Year-End_Hot_100_singles_of_1970\")\r\n",
        "t1970.status_code"
      ],
      "execution_count": null,
      "outputs": [
        {
          "output_type": "execute_result",
          "data": {
            "text/plain": [
              "200"
            ]
          },
          "metadata": {
            "tags": []
          },
          "execution_count": 13
        }
      ]
    },
    {
      "cell_type": "code",
      "metadata": {
        "id": "6p7QBSodlm41",
        "jupyter": {
          "outputs_hidden": false
        },
        "scrolled": true,
        "colab": {
          "base_uri": "https://localhost:8080/"
        },
        "outputId": "53ab2df7-501a-4262-cfbc-1998eda3fb33"
      },
      "source": [
        "#Parsing the webpage\n",
        "t1970_data = t1970.text\n",
        "t1970_data = BeautifulSoup(t1970_data, 'html.parser')\n",
        "# t1970_data.tbody\n",
        "# t1970_data.find_all('td')\n",
        "\n",
        "t1970_data.find_all(class_ = \"mw-body-content\")\n",
        "t1970_data.tbody.find_all('td')\n",
        "# len(t1970_data.tbody.find_all('td'))\n",
        "\n",
        "# song  = [{'url': '/wiki/Sugarloaf_(band)', 'ranking': 30, 'band_singer': 'Sugarloaf', 'title': 'Green-Eyed Lady'}] \n",
        "# t1970_data.tbody.find_all('td')[0].string\n",
        "# t1970_data.tbody.find_all('td')[1].a[\"title\"]\n",
        "# t1970_data.tbody.find_all('td')[2].a[\"href\"]\n",
        "# t1970_data.tbody.find_all('td')[2].a[\"title\"]\n",
        "# song.append({'url': t1970_data.tbody.find_all('td')[2].a[\"href\"], 'ranking': int(t1970_data.tbody.find_all('td')[0].string), 'band_singer': t1970_data.tbody.find_all('td')[2].a[\"title\"], 'title': t1970_data.tbody.find_all('td')[1].a[\"title\"]})\n",
        "# print(song)\n",
        "\n",
        "\n",
        "#your code here\n",
        "song = []\n",
        "# for value in range(len(t1970_data.tbody.find_all('td'))):\n",
        "value = 0\n",
        "while value <300:\n",
        "  song.append({'url': t1970_data.tbody.find_all('td')[value+2].a[\"href\"], 'ranking': int(t1970_data.tbody.find_all('td')[value].string), 'band_singer': t1970_data.tbody.find_all('td')[value+2].a[\"title\"], 'title': t1970_data.tbody.find_all('td')[value+1].a[\"title\"]})\n",
        "  value = value+3\n",
        "print(song)"
      ],
      "execution_count": null,
      "outputs": [
        {
          "output_type": "stream",
          "text": [
            "[{'url': '/wiki/Simon_%26_Garfunkel', 'ranking': 1, 'band_singer': 'Simon & Garfunkel', 'title': 'Bridge Over Troubled Water (song)'}, {'url': '/wiki/The_Carpenters', 'ranking': 2, 'band_singer': 'The Carpenters', 'title': '(They Long to Be) Close to You'}, {'url': '/wiki/The_Guess_Who', 'ranking': 3, 'band_singer': 'The Guess Who', 'title': 'American Woman'}, {'url': '/wiki/B.J._Thomas', 'ranking': 4, 'band_singer': 'B.J. Thomas', 'title': \"Raindrops Keep Fallin' on My Head\"}, {'url': '/wiki/Edwin_Starr', 'ranking': 5, 'band_singer': 'Edwin Starr', 'title': 'War (The Temptations song)'}, {'url': '/wiki/Diana_Ross', 'ranking': 6, 'band_singer': 'Diana Ross', 'title': \"Ain't No Mountain High Enough\"}, {'url': '/wiki/The_Jackson_5', 'ranking': 7, 'band_singer': 'The Jackson 5', 'title': \"I'll Be There (The Jackson 5 song)\"}, {'url': '/wiki/Rare_Earth_(band)', 'ranking': 8, 'band_singer': 'Rare Earth (band)', 'title': 'Get Ready (The Temptations song)'}, {'url': '/wiki/The_Beatles', 'ranking': 9, 'band_singer': 'The Beatles', 'title': 'Let It Be (Beatles song)'}, {'url': '/wiki/Freda_Payne', 'ranking': 10, 'band_singer': 'Freda Payne', 'title': 'Band of Gold (Freda Payne song)'}, {'url': '/wiki/Three_Dog_Night', 'ranking': 11, 'band_singer': 'Three Dog Night', 'title': 'Mama Told Me Not to Come'}, {'url': '/wiki/Ray_Stevens', 'ranking': 12, 'band_singer': 'Ray Stevens', 'title': 'Everything Is Beautiful'}, {'url': '/wiki/Bread_(band)', 'ranking': 13, 'band_singer': 'Bread (band)', 'title': 'Make It with You'}, {'url': '/wiki/Vanity_Fare', 'ranking': 14, 'band_singer': 'Vanity Fare', 'title': \"Hitchin' a Ride (Vanity Fare song)\"}, {'url': '/wiki/The_Jackson_5', 'ranking': 15, 'band_singer': 'The Jackson 5', 'title': 'ABC (The Jackson 5 song)'}, {'url': '/wiki/The_Jackson_5', 'ranking': 16, 'band_singer': 'The Jackson 5', 'title': 'The Love You Save'}, {'url': '/wiki/Neil_Diamond', 'ranking': 17, 'band_singer': 'Neil Diamond', 'title': \"Cracklin' Rosie\"}, {'url': '/wiki/Tony_Orlando_and_Dawn', 'ranking': 18, 'band_singer': 'Tony Orlando and Dawn', 'title': 'Candida (song)'}, {'url': '/wiki/Sly_%26_the_Family_Stone', 'ranking': 19, 'band_singer': 'Sly & the Family Stone', 'title': 'Thank You (Falettinme Be Mice Elf Agin)'}, {'url': '/wiki/Eric_Burdon', 'ranking': 20, 'band_singer': 'Eric Burdon', 'title': 'Spill the Wine'}, {'url': '/wiki/Five_Stairsteps', 'ranking': 21, 'band_singer': 'Five Stairsteps', 'title': 'O-o-h Child'}, {'url': '/wiki/Norman_Greenbaum', 'ranking': 22, 'band_singer': 'Norman Greenbaum', 'title': 'Spirit in the Sky'}, {'url': '/wiki/Melanie_Safka', 'ranking': 23, 'band_singer': 'Melanie Safka', 'title': 'Lay Down (Candles in the Rain)'}, {'url': '/wiki/The_Temptations', 'ranking': 24, 'band_singer': 'The Temptations', 'title': \"Ball of Confusion (That's What the World Is Today)\"}, {'url': '/wiki/Ray,_Goodman_%26_Brown', 'ranking': 25, 'band_singer': 'Ray, Goodman & Brown', 'title': 'Love on a Two-Way Street'}, {'url': '/wiki/The_Poppy_Family', 'ranking': 26, 'band_singer': 'The Poppy Family', 'title': \"Which Way You Goin' Billy? (song)\"}, {'url': '/wiki/Free_(band)', 'ranking': 27, 'band_singer': 'Free (band)', 'title': 'All Right Now'}, {'url': '/wiki/The_Jackson_5', 'ranking': 28, 'band_singer': 'The Jackson 5', 'title': 'I Want You Back'}, {'url': '/wiki/Bobby_Sherman', 'ranking': 29, 'band_singer': 'Bobby Sherman', 'title': 'Julie, Do Ya Love Me'}, {'url': '/wiki/Sugarloaf_(band)', 'ranking': 30, 'band_singer': 'Sugarloaf (band)', 'title': 'Green-Eyed Lady'}, {'url': '/wiki/Stevie_Wonder', 'ranking': 31, 'band_singer': 'Stevie Wonder', 'title': \"Signed, Sealed, Delivered I'm Yours\"}, {'url': '/wiki/Blues_Image', 'ranking': 32, 'band_singer': 'Blues Image', 'title': 'Ride Captain Ride'}, {'url': '/wiki/Shocking_Blue', 'ranking': 33, 'band_singer': 'Shocking Blue', 'title': 'Venus (Shocking Blue song)'}, {'url': '/wiki/John_Lennon', 'ranking': 34, 'band_singer': 'John Lennon', 'title': 'Instant Karma!'}, {'url': '/wiki/Clarence_Carter', 'ranking': 35, 'band_singer': 'Clarence Carter', 'title': 'Patches (Chairmen of the Board song)'}, {'url': '/wiki/Creedence_Clearwater_Revival', 'ranking': 36, 'band_singer': 'Creedence Clearwater Revival', 'title': \"Lookin' out My Back Door\"}, {'url': '/wiki/Brook_Benton', 'ranking': 37, 'band_singer': 'Brook Benton', 'title': 'Rainy Night in Georgia'}, {'url': '/wiki/Kenny_Rogers', 'ranking': 38, 'band_singer': 'Kenny Rogers', 'title': \"Something's Burning (song)\"}, {'url': '/wiki/Chairmen_of_the_Board', 'ranking': 39, 'band_singer': 'Chairmen of the Board', 'title': 'Give Me Just a Little More Time'}, {'url': '/wiki/Edison_Lighthouse', 'ranking': 40, 'band_singer': 'Edison Lighthouse', 'title': 'Love Grows (Where My Rosemary Goes)'}, {'url': '/wiki/The_Beatles', 'ranking': 41, 'band_singer': 'The Beatles', 'title': 'The Long and Winding Road'}, {'url': '/wiki/Anne_Murray', 'ranking': 42, 'band_singer': 'Anne Murray', 'title': 'Snowbird (song)'}, {'url': '/wiki/Marmalade_(band)', 'ranking': 43, 'band_singer': 'Marmalade (band)', 'title': 'Reflections of My Life'}, {'url': '/wiki/Eddie_Holman', 'ranking': 44, 'band_singer': 'Eddie Holman', 'title': 'Hey There Lonely Girl'}, {'url': '/wiki/The_Jaggerz', 'ranking': 45, 'band_singer': 'The Jaggerz', 'title': 'The Rapper'}, {'url': '/wiki/The_Hollies', 'ranking': 46, 'band_singer': 'The Hollies', 'title': \"He Ain't Heavy, He's My Brother\"}, {'url': '/wiki/Alive_N_Kickin%27', 'ranking': 47, 'band_singer': \"Alive N Kickin'\", 'title': 'Tighter, Tighter'}, {'url': '/wiki/Badfinger', 'ranking': 48, 'band_singer': 'Badfinger', 'title': 'Come and Get It (Badfinger song)'}, {'url': '/wiki/Simon_%26_Garfunkel', 'ranking': 49, 'band_singer': 'Simon & Garfunkel', 'title': 'Cecilia (Simon & Garfunkel song)'}, {'url': '/wiki/Charles_Wright_%26_the_Watts_103rd_Street_Rhythm_Band', 'ranking': 50, 'band_singer': 'Charles Wright & the Watts 103rd Street Rhythm Band', 'title': 'Love Land (song)'}, {'url': '/wiki/Tyrone_Davis', 'ranking': 51, 'band_singer': 'Tyrone Davis', 'title': 'Turn Back the Hands of Time (song)'}, {'url': '/wiki/The_Kinks', 'ranking': 52, 'band_singer': 'The Kinks', 'title': 'Lola (song)'}, {'url': '/wiki/Mungo_Jerry', 'ranking': 53, 'band_singer': 'Mungo Jerry', 'title': 'In the Summertime (Mungo Jerry song)'}, {'url': '/wiki/R._Dean_Taylor', 'ranking': 54, 'band_singer': 'R. Dean Taylor', 'title': 'Indiana Wants Me'}, {'url': '/wiki/Rare_Earth_(band)', 'ranking': 55, 'band_singer': 'Rare Earth (band)', 'title': \"(I Know) I'm Losing You\"}, {'url': '/wiki/Bobby_Sherman', 'ranking': 56, 'band_singer': 'Bobby Sherman', 'title': 'Easy Come, Easy Go (Bobby Sherman song)'}, {'url': '/wiki/Charles_Wright_%26_the_Watts_103rd_Street_Rhythm_Band', 'ranking': 57, 'band_singer': 'Charles Wright & the Watts 103rd Street Rhythm Band', 'title': 'Express Yourself (Charles Wright & the Watts 103rd Street Rhythm Band song)'}, {'url': '/wiki/The_Four_Tops', 'ranking': 58, 'band_singer': 'The Four Tops', 'title': 'Still Water (Love)'}, {'url': '/wiki/Chicago_(band)', 'ranking': 59, 'band_singer': 'Chicago (band)', 'title': 'Make Me Smile'}, {'url': '/wiki/Frijid_Pink', 'ranking': 60, 'band_singer': 'Frijid Pink', 'title': 'The House of the Rising Sun'}, {'url': '/wiki/Chicago_(band)', 'ranking': 61, 'band_singer': 'Chicago (band)', 'title': '25 or 6 to 4'}, {'url': '/wiki/White_Plains_(band)', 'ranking': 62, 'band_singer': 'White Plains (band)', 'title': \"My Baby Loves Lovin'\"}, {'url': '/wiki/The_Friends_of_Distinction', 'ranking': 63, 'band_singer': 'The Friends of Distinction', 'title': 'Love or Let Me Be Lonely'}, {'url': '/wiki/The_Brotherhood_of_Man', 'ranking': 64, 'band_singer': 'The Brotherhood of Man', 'title': 'United We Stand (song)'}, {'url': '/wiki/The_Carpenters', 'ranking': 65, 'band_singer': 'The Carpenters', 'title': \"We've Only Just Begun\"}, {'url': '/wiki/Mark_Lindsay', 'ranking': 66, 'band_singer': 'Mark Lindsay', 'title': 'Arizona (song)'}, {'url': '/wiki/James_Taylor', 'ranking': 67, 'band_singer': 'James Taylor', 'title': 'Fire and Rain (song)'}, {'url': '/wiki/Gene_Chandler', 'ranking': 68, 'band_singer': 'Gene Chandler', 'title': 'Groovy Situation'}, {'url': '/wiki/Santana_(band)', 'ranking': 69, 'band_singer': 'Santana (band)', 'title': 'Evil Ways'}, {'url': '/wiki/The_Guess_Who', 'ranking': 70, 'band_singer': 'The Guess Who', 'title': 'No Time (The Guess Who song)'}, {'url': '/wiki/The_Delfonics', 'ranking': 71, 'band_singer': 'The Delfonics', 'title': \"Didn't I (Blow Your Mind This Time)\"}, {'url': '/wiki/Elvis_Presley', 'ranking': 72, 'band_singer': 'Elvis Presley', 'title': 'The Wonder of You'}, {'url': '/wiki/Creedence_Clearwater_Revival', 'ranking': 73, 'band_singer': 'Creedence Clearwater Revival', 'title': 'Up Around the Bend'}, {'url': '/wiki/Ronnie_Dyson', 'ranking': 74, 'band_singer': 'Ronnie Dyson', 'title': \"(If You Let Me Make Love To You Then) Why Can't I Touch You?\"}, {'url': '/wiki/B.J._Thomas', 'ranking': 75, 'band_singer': 'B.J. Thomas', 'title': \"I Just Can't Help Believing\"}, {'url': '/wiki/The_Spinners_(American_band)', 'ranking': 76, 'band_singer': 'The Spinners (American band)', 'title': \"It's a Shame (The Spinners song)\"}, {'url': '/wiki/Bobbi_Martin', 'ranking': 77, 'band_singer': 'Bobbi Martin', 'title': 'For the Love of Him'}, {'url': '/wiki/Mountain_(band)', 'ranking': 78, 'band_singer': 'Mountain (band)', 'title': 'Mississippi Queen'}, {'url': '/wiki/Ike_%26_Tina_Turner', 'ranking': 79, 'band_singer': 'Ike & Tina Turner', 'title': 'I Want to Take You Higher'}, {'url': '/wiki/Joe_Cocker', 'ranking': 80, 'band_singer': 'Joe Cocker', 'title': 'The Letter (Box Tops song)'}, {'url': '/wiki/Tee-Set', 'ranking': 81, 'band_singer': 'Tee-Set', 'title': 'Ma Belle Amie'}, {'url': '/wiki/The_Originals_(band)', 'ranking': 82, 'band_singer': 'The Originals (band)', 'title': 'The Bells (The Originals song)'}, {'url': '/wiki/Christie_(band)', 'ranking': 83, 'band_singer': 'Christie (band)', 'title': 'Yellow River (song)'}, {'url': '/wiki/100_Proof_(Aged_in_Soul)', 'ranking': 84, 'band_singer': '100 Proof (Aged in Soul)', 'title': \"Somebody's Been Sleeping\"}, {'url': '/wiki/The_Ides_of_March_(band)', 'ranking': 85, 'band_singer': 'The Ides of March (band)', 'title': 'Vehicle (song)'}, {'url': '/wiki/The_Pipkins', 'ranking': 86, 'band_singer': 'The Pipkins', 'title': 'Gimme Dat Ding (song)'}, {'url': '/wiki/Robin_McNamara', 'ranking': 87, 'band_singer': 'Robin McNamara', 'title': \"Lay a Little Lovin' on Me\"}, {'url': '/wiki/The_Supremes', 'ranking': 88, 'band_singer': 'The Supremes', 'title': 'Up the Ladder to the Roof'}, {'url': '/wiki/Creedence_Clearwater_Revival', 'ranking': 89, 'band_singer': 'Creedence Clearwater Revival', 'title': \"Travelin' Band\"}, {'url': '/wiki/The_Sandpipers', 'ranking': 90, 'band_singer': 'The Sandpipers', 'title': 'Come Saturday Morning (song)'}, {'url': '/wiki/The_Temptations', 'ranking': 91, 'band_singer': 'The Temptations', 'title': 'Psychedelic Shack (song)'}, {'url': '/wiki/Tom_Jones_(singer)', 'ranking': 92, 'band_singer': 'Tom Jones (singer)', 'title': 'Without Love (There Is Nothing)'}, {'url': '/wiki/Pacific_Gas_%26_Electric_(band)', 'ranking': 93, 'band_singer': 'Pacific Gas & Electric (band)', 'title': 'Are You Ready? (Pacific Gas & Electric song)'}, {'url': '/wiki/Crosby,_Stills,_Nash_%26_Young', 'ranking': 94, 'band_singer': 'Crosby, Stills, Nash & Young', 'title': 'Woodstock (song)'}, {'url': '/wiki/Dionne_Warwick', 'ranking': 95, 'band_singer': 'Dionne Warwick', 'title': \"I'll Never Fall in Love Again\"}, {'url': '/wiki/The_New_Seekers', 'ranking': 96, 'band_singer': 'The New Seekers', 'title': \"Look What They've Done to My Song Ma\"}, {'url': '/wiki/Joe_South', 'ranking': 97, 'band_singer': 'Joe South', 'title': 'Walk A Mile In My Shoes'}, {'url': '/wiki/B.B._King', 'ranking': 98, 'band_singer': 'B.B. King', 'title': 'The Thrill Is Gone (1951 song)'}, {'url': '/wiki/Glen_Campbell', 'ranking': 99, 'band_singer': 'Glen Campbell', 'title': \"It's Only Make Believe\"}, {'url': '/wiki/Aretha_Franklin', 'ranking': 100, 'band_singer': 'Aretha Franklin', 'title': 'Call Me (Aretha Franklin song)'}]\n"
          ],
          "name": "stdout"
        }
      ]
    },
    {
      "cell_type": "markdown",
      "metadata": {
        "id": "w6wf4pqKlm48"
      },
      "source": [
        "### 1.2 Scrape Billboard Wikipedia's pages from 1992 to 2020 \r\n",
        "\r\n"
      ]
    },
    {
      "cell_type": "markdown",
      "metadata": {
        "id": "3Spk5hLjlm4_"
      },
      "source": [
        "By visiting urls similar to the one for 1970, we can obtain the billboard top 100 for the years 1992 to 2020. \r\n",
        "\r\n",
        "Store the text from your `requests` in a dictionary called `yearstext`. \r\n",
        "This dictionary should have as its keys the years (as integers from 1992 to 2020). The values corresponding to these keys should be the html text downloaded from Wikipedia.<br>\r\n",
        "So, each entry in `yearstext` will look something like this:\r\n",
        "\r\n",
        "![yearstext](https://drive.google.com/uc?export=view&id=16LNIyznVnAY-N5EN6lsSB9505fXG1-zK)\r\n",
        "\r\n",
        "where the key is 1992 and the value is the HTML at http://en.wikipedia.org/wiki/Billboard_Year-End_Hot_100_singles_of_1992."
      ]
    },
    {
      "cell_type": "markdown",
      "metadata": {
        "id": "8G3NooTslm5H"
      },
      "source": [
        "*Hint*:\n",
        "Put your requests.get() in a `for` loop and keep appending the text from your requests into the dictionary. Use the `time.sleep` function to wait one second between requests, you do not want Wikipedia to think you are a marauding bot attempting to mount a denial-of-service attack."
      ]
    },
    {
      "cell_type": "code",
      "metadata": {
        "id": "WmWtNV42lm5Q"
      },
      "source": [
        "#your code here\n",
        "yearstext = {}\n",
        "for year in range(29):\n",
        "  url = \"https://en.wikipedia.org/wiki/Billboard_Year-End_Hot_100_singles_of_\"+str(1992+year)\n",
        "  response = requests.get(url)\n",
        "  time.sleep(3)\n",
        "\n",
        "  # print(url, \"==>\",response.status_code)\n",
        "  data = response.text\n",
        "  data = BeautifulSoup(data, 'html.parser')\n",
        "  yearstext[1992+year] = data"
      ],
      "execution_count": null,
      "outputs": []
    },
    {
      "cell_type": "code",
      "metadata": {
        "colab": {
          "base_uri": "https://localhost:8080/"
        },
        "id": "hAuXm7ZthbwX",
        "outputId": "57ea8cb0-ac97-4595-a0e8-faca853ff5be"
      },
      "source": [
        "yearstext.keys()"
      ],
      "execution_count": null,
      "outputs": [
        {
          "output_type": "execute_result",
          "data": {
            "text/plain": [
              "dict_keys([1992, 1993, 1994, 1995, 1996, 1997, 1998, 1999, 2000, 2001, 2002, 2003, 2004, 2005, 2006, 2007, 2008, 2009, 2010, 2011, 2012, 2013, 2014, 2015, 2016, 2017, 2018, 2019, 2020])"
            ]
          },
          "metadata": {
            "tags": []
          },
          "execution_count": 16
        }
      ]
    },
    {
      "cell_type": "markdown",
      "metadata": {
        "id": "agIKGBkVlm6G"
      },
      "source": [
        "### 1.3 Parse the data"
      ]
    },
    {
      "cell_type": "markdown",
      "metadata": {
        "id": "WZ_l5dn-lm6K"
      },
      "source": [
        "Now, write a function `parse_year(year, yeartextdict)` that returns a dictionary `yearinfo`.\n",
        "Here `year` should be the integer value of the year, and `yeartextdict` should be the HTML text for the corresponding webpage. \n",
        "This function should return a dictionary of the following form:\n",
        "\n",
        "```\n",
        "{'ranking': 32,\n",
        " 'song': ['Hot Boyz (song)'],\n",
        " 'songurl': ['/wiki/Hot_Boyz_(song)'],\n",
        " 'titletext': '\"Hot Boyz\"',\n",
        " 'band_singer': ['Missy Elliott', 'Nas', 'Eve (rapper)', 'Q-Tip (musician)'],\n",
        " 'url': ['/wiki/Missy_Elliott',\n",
        "  '/wiki/Nas',\n",
        "  '/wiki/Eve_(rapper)',\n",
        "  '/wiki/Q-Tip_(musician)']}\n",
        "```\n",
        "Notice that the `titletext` is the contents of the table cell, and retains the quotes that wikipedia puts on the single.\n",
        "\n",
        "Here are some issues that you will need to take care of:\n",
        "\n",
        "1.   The example shown above has several artists for a single song. In this case, the `band_singer` and `url` would be a list of items.\n",
        "\n",
        "2.   Some singles might even have multiple songs because of the way the industry works:\n",
        "```\n",
        "{'ranking': 98,\n",
        " 'song': [\"You're Makin' Me High\", 'Let It Flow (song)'],\n",
        " 'songurl': ['/wiki/You%27re_Makin%27_Me_High', '/wiki/Let_It_Flow_(song)'],\n",
        " 'titletext': '\"You\\'re Makin\\' Me High\" / \"Let It Flow\"',\n",
        " 'band_singer': ['Toni Braxton'],\n",
        " 'url': ['/wiki/Toni_Braxton']}\n",
        "```\n",
        "(See 1997 for an example)\n",
        "\n",
        "3. Some songs don't have a URL. In this case, assume there is one song in the single, set `songurl` to [`None`] and the song name to the contents of the table cell with the quotes stripped:\n",
        "```\n",
        "{'ranking': 45,\n",
        "  'song': ['Say It'],\n",
        "  'songurl': [None],\n",
        "  'titletext': '\"Say It\"',\n",
        "  'band_singer': ['Voices of Theory'],\n",
        "  'url': ['/wiki/Voices_of_Theory']}\n",
        "```\n",
        "(See 1998 for an example)"
      ]
    },
    {
      "cell_type": "code",
      "metadata": {
        "id": "EXpy7iA0lm6h",
        "jupyter": {
          "outputs_hidden": false
        },
        "scrolled": true,
        "colab": {
          "base_uri": "https://localhost:8080/",
          "height": 145
        },
        "outputId": "19f2ad50-c613-4d9b-dadb-6c98ea82028c"
      },
      "source": [
        "\"\"\"\n",
        "Function\n",
        "--------\n",
        "parse_year\n",
        "\n",
        "Inputs\n",
        "------\n",
        "year: the year you want the singles for\n",
        "ytextdixt: a dictionary with keys as integer years and values the downloaded web pages \n",
        "    from wikipedia for that year.\n",
        "   \n",
        "Returns\n",
        "-------\n",
        "\n",
        "a list of dictionaries, each of which corresponds to a single and has the\n",
        "following data:\n",
        "\n",
        "Eg:\n",
        "\n",
        "{'band_singer': ['Brandy', 'Monica'],\n",
        "  'ranking': 2,\n",
        "  'song': ['The Boy Is Mine'],\n",
        "  'songurl': ['/wiki/The_Boy_Is_Mine_(song)'],\n",
        "  'titletext': '\" The Boy Is Mine \"',\n",
        "  'url': ['/wiki/Brandy_Norwood', '/wiki/Monica_(entertainer)']}\n",
        "  \n",
        "A dictionary with the following data:\n",
        "    band_singer: a list of bands/singers who made this single\n",
        "    song: a list of the titles of songs on this single\n",
        "    songurl: a list of the same size as song which has urls for the songs on the single \n",
        "        (see point 3 above)\n",
        "    ranking: ranking of the single\n",
        "    titletext: the contents of the table cell\n",
        "    band_singer: a list of bands or singers on this single\n",
        "    url: a list of wikipedia singer/band urls on this single: only put in the part \n",
        "        of the url from /wiki onwards\n",
        "    \n",
        "\"\"\"\n",
        "#your code here\n",
        "\n",
        "\n",
        "\n",
        "\n",
        "\n",
        "\n",
        "\n"
      ],
      "execution_count": null,
      "outputs": [
        {
          "output_type": "execute_result",
          "data": {
            "application/vnd.google.colaboratory.intrinsic+json": {
              "type": "string"
            },
            "text/plain": [
              "'\\nFunction\\n--------\\nparse_year\\n\\nInputs\\n------\\nyear: the year you want the singles for\\nytextdixt: a dictionary with keys as integer years and values the downloaded web pages \\n    from wikipedia for that year.\\n   \\nReturns\\n-------\\n\\na list of dictionaries, each of which corresponds to a single and has the\\nfollowing data:\\n\\nEg:\\n\\n{\\'band_singer\\': [\\'Brandy\\', \\'Monica\\'],\\n  \\'ranking\\': 2,\\n  \\'song\\': [\\'The Boy Is Mine\\'],\\n  \\'songurl\\': [\\'/wiki/The_Boy_Is_Mine_(song)\\'],\\n  \\'titletext\\': \\'\" The Boy Is Mine \"\\',\\n  \\'url\\': [\\'/wiki/Brandy_Norwood\\', \\'/wiki/Monica_(entertainer)\\']}\\n  \\nA dictionary with the following data:\\n    band_singer: a list of bands/singers who made this single\\n    song: a list of the titles of songs on this single\\n    songurl: a list of the same size as song which has urls for the songs on the single \\n        (see point 3 above)\\n    ranking: ranking of the single\\n    titletext: the contents of the table cell\\n    band_singer: a list of bands or singers on this single\\n    url: a list of wikipedia singer/band urls on this single: only put in the part \\n        of the url from /wiki onwards\\n    \\n'"
            ]
          },
          "metadata": {
            "tags": []
          },
          "execution_count": 17
        }
      ]
    },
    {
      "cell_type": "code",
      "metadata": {
        "id": "8wBirXPyklO_"
      },
      "source": [
        "def get_single_dict(row):\r\n",
        "    \"\"\"\r\n",
        "    input: list of contents in single row\r\n",
        "    output: dictionary of content from single row\r\n",
        "    \"\"\"\r\n",
        "    \r\n",
        "    children = [child for child in row.children]\r\n",
        "    children = list(filter(lambda x: x != '\\n', children))\r\n",
        "    ranking = children[0].string\r\n",
        "    band_singers = children[2].find_all('a')\r\n",
        "    band_singer = [band.string for band in band_singers]\r\n",
        "    url = [url['href'] for url in band_singers]\r\n",
        "    songs = children[1].find_all('a')\r\n",
        "    songurl = [song['href'] for song in songs]\r\n",
        "    \r\n",
        "    #handles edge cases where row content is missing\r\n",
        "    if songurl == []:\r\n",
        "        songurl = [None]\r\n",
        "    song = [song.string for song in songs]\r\n",
        "    if not song:\r\n",
        "        song = children[1].string\r\n",
        "        \r\n",
        "    if type(song) == list:\r\n",
        "        title = '/'.join(str(s) for s in song)\r\n",
        "    else:\r\n",
        "        title = song\r\n",
        "\r\n",
        "    single_dict = {'band_singer': band_singer, 'ranking': ranking, 'song': song,\r\n",
        "                   'songurl':songurl, 'titletext':title, 'url': url}\r\n",
        "    return single_dict\r\n",
        "\r\n",
        "\r\n",
        "def parse_year(the_year, yeartext_dict):\r\n",
        "    \r\n",
        "    # soup = BeautifulSoup(yeartext_dict[str(the_year)], 'html.parser')\r\n",
        "    soup = yeartext_dict[the_year]\r\n",
        "    tables_wikitable = soup.find_all('table', 'wikitable')\r\n",
        "    rows = [row for row in tables_wikitable[0].find_all('tr')][1:]\r\n",
        "    yearinfo = [get_single_dict(row) for row in rows]\r\n",
        "    return yearinfo\r\n",
        "\r\n",
        "# parse_year(1997, yearstext)"
      ],
      "execution_count": null,
      "outputs": []
    },
    {
      "cell_type": "code",
      "metadata": {
        "id": "0AetrodPsmvq",
        "colab": {
          "base_uri": "https://localhost:8080/"
        },
        "outputId": "6bb3e159-dd29-442a-828e-b615ae152e73"
      },
      "source": [
        "list(yearstext.keys())"
      ],
      "execution_count": null,
      "outputs": [
        {
          "output_type": "execute_result",
          "data": {
            "text/plain": [
              "[1992,\n",
              " 1993,\n",
              " 1994,\n",
              " 1995,\n",
              " 1996,\n",
              " 1997,\n",
              " 1998,\n",
              " 1999,\n",
              " 2000,\n",
              " 2001,\n",
              " 2002,\n",
              " 2003,\n",
              " 2004,\n",
              " 2005,\n",
              " 2006,\n",
              " 2007,\n",
              " 2008,\n",
              " 2009,\n",
              " 2010,\n",
              " 2011,\n",
              " 2012,\n",
              " 2013,\n",
              " 2014,\n",
              " 2015,\n",
              " 2016,\n",
              " 2017,\n",
              " 2018,\n",
              " 2019,\n",
              " 2020]"
            ]
          },
          "metadata": {
            "tags": []
          },
          "execution_count": 19
        }
      ]
    },
    {
      "cell_type": "code",
      "metadata": {
        "id": "aDAF0yMEpWTO"
      },
      "source": [
        "#BE ALWAYS ALIVE YOU piece OF Krraip lol \r\n",
        "# while True:pass"
      ],
      "execution_count": null,
      "outputs": []
    },
    {
      "cell_type": "code",
      "metadata": {
        "id": "iz3eOP1rrq_b"
      },
      "source": [
        "years = list(yearstext.keys())\r\n",
        "yearinfo = {y: parse_year(y, yearstext) for y in years}"
      ],
      "execution_count": null,
      "outputs": []
    },
    {
      "cell_type": "code",
      "metadata": {
        "colab": {
          "base_uri": "https://localhost:8080/"
        },
        "id": "uqUT_UJgtrl0",
        "outputId": "c2756bf9-7da5-4b39-b4bd-eac533b9dbaf"
      },
      "source": [
        "yearinfo.keys()"
      ],
      "execution_count": null,
      "outputs": [
        {
          "output_type": "execute_result",
          "data": {
            "text/plain": [
              "dict_keys([1992, 1993, 1994, 1995, 1996, 1997, 1998, 1999, 2000, 2001, 2002, 2003, 2004, 2005, 2006, 2007, 2008, 2009, 2010, 2011, 2012, 2013, 2014, 2015, 2016, 2017, 2018, 2019, 2020])"
            ]
          },
          "metadata": {
            "tags": []
          },
          "execution_count": 22
        }
      ]
    },
    {
      "cell_type": "code",
      "metadata": {
        "id": "I4TYBd1csUCP"
      },
      "source": [
        "# for year in range(1992, 2021):\r\n",
        "#     yearinfo = parse_year(year, yearstext)\r\n",
        "#     fd = open(\"{0}info.json\".format(str(year)),\"w\")\r\n",
        "#     json.dump(yearinfo, fd)\r\n",
        "#     fd.close()"
      ],
      "execution_count": null,
      "outputs": []
    },
    {
      "cell_type": "code",
      "metadata": {
        "id": "7OJdGaTrlm6t",
        "jupyter": {
          "outputs_hidden": false
        },
        "scrolled": true
      },
      "source": [
        "#your code here\r\n",
        "# yearinfo = { }\r\n"
      ],
      "execution_count": null,
      "outputs": []
    },
    {
      "cell_type": "markdown",
      "metadata": {
        "id": "044UilQrsU_x"
      },
      "source": [
        "Save this dictionary as a json file so you do not need to run it over and over again."
      ]
    },
    {
      "cell_type": "code",
      "metadata": {
        "id": "yyZCQ0Fmlm60",
        "jupyter": {
          "outputs_hidden": false
        }
      },
      "source": [
        "#Store the dictionary and delete the variable\n",
        "fd = open(\"yearinfo.json\",\"w\")\n",
        "json.dump(yearinfo, fd)\n",
        "fd.close()\n",
        "del yearinfo"
      ],
      "execution_count": null,
      "outputs": []
    },
    {
      "cell_type": "code",
      "metadata": {
        "colab": {
          "base_uri": "https://localhost:8080/"
        },
        "id": "Vgyb51l8vT4Z",
        "outputId": "6a09c873-cbbe-46b2-eca0-fbffc7150bf6"
      },
      "source": [
        "!ls /content/gdrive/MyDrive/DS-1\r\n",
        "!cp  /content/yearinfo.json  /content/gdrive/MyDrive/DS-1/HW-1\r\n",
        "!ls /content/gdrive/MyDrive/DS-1\r\n"
      ],
      "execution_count": null,
      "outputs": [
        {
          "output_type": "stream",
          "text": [
            "HW-1\n",
            "HW-1\n"
          ],
          "name": "stdout"
        }
      ]
    },
    {
      "cell_type": "code",
      "metadata": {
        "colab": {
          "base_uri": "https://localhost:8080/"
        },
        "id": "prWWRRJowdIA",
        "outputId": "9975c2af-6233-4616-837b-39a296ec3857"
      },
      "source": [
        "# !ls -ltrh /content/gdrive/MyDrive/DS-1/HW-1/yearinfo.json\r\n",
        "!ls "
      ],
      "execution_count": null,
      "outputs": [
        {
          "output_type": "stream",
          "text": [
            "artistinfo.json  flatframedf  gdrive  sample_data  yearinfo.json\n"
          ],
          "name": "stdout"
        }
      ]
    },
    {
      "cell_type": "code",
      "metadata": {
        "id": "XOuXxgltlm68",
        "jupyter": {
          "outputs_hidden": false
        },
        "scrolled": true
      },
      "source": [
        "#Load the dictionary back to the same variable\n",
        "with open(\"/content/yearinfo.json\", \"r\") as fd:\n",
        "  yearinfo = json.load(fd)\n",
        "    "
      ],
      "execution_count": null,
      "outputs": []
    },
    {
      "cell_type": "markdown",
      "metadata": {
        "id": "Kd_0dzuslm7B"
      },
      "source": [
        "## Q2: Construct a year-song-singer dataframe \n",
        "#### [20 points]"
      ]
    },
    {
      "cell_type": "markdown",
      "metadata": {
        "id": "ZGDX83Xblm7E"
      },
      "source": [
        "Now, let's construct a dataframe from the dictionary created in the previous section `yearinfo`. \n",
        "Name this dataframe `flatframe`.\n",
        "\n",
        "Keep in mind, in the data structure we have so far, a given key can have a list of values with multiple entries. Also, our data is grouped by year. So we need a way to flatten this data into a format that will create a useful DataFrame. \n",
        "\n",
        "An easy way to do this is to use the pandas `concat` function.\n",
        "\n",
        "Your final dataframe `flatframe` should look something like this:\n",
        "![flatframexample](https://drive.google.com/uc?export=view&id=12hlpB-zRGJh6JYCTcMoTzumKSyXgfoiY)"
      ]
    },
    {
      "cell_type": "code",
      "metadata": {
        "id": "9Tk6XgIslm7I"
      },
      "source": [
        "#your code here \n",
        "\n",
        "# def createDF(year):\n",
        "\n",
        "\n",
        "\n",
        "# flatframe = pd.DataFrame(yearinfo['1992'])\n",
        "# flatframe.head(5)\n",
        "\n",
        "\n",
        "\n",
        "\n",
        "\n"
      ],
      "execution_count": null,
      "outputs": []
    },
    {
      "cell_type": "code",
      "metadata": {
        "colab": {
          "base_uri": "https://localhost:8080/",
          "height": 198
        },
        "id": "FKV8TLbQ1Ctm",
        "outputId": "292cbf80-fc40-49cf-9832-42e6c06e4c25"
      },
      "source": [
        "testlist = []\r\n",
        "\r\n",
        "# testlist.extend(yearinfo['1992'])\r\n",
        "# testlist.extend(yearinfo['1993'])\r\n",
        "df1 = pd.DataFrame(yearinfo[str(years[0])])\r\n",
        "df1['year'] = years[0]\r\n",
        "for year in years[1:]:\r\n",
        "  # testlist.extend(yearinfo[str(year)])\r\n",
        "  \r\n",
        "  df2 = pd.DataFrame(yearinfo[str(year)])\r\n",
        "  df2['year'] = year\r\n",
        "  df1 = pd.concat([df1, df2], axis=0)\r\n",
        "  \r\n",
        "\r\n",
        "testlist\r\n",
        "df1.head(5)\r\n",
        "# df1['year'].value_counts()"
      ],
      "execution_count": null,
      "outputs": [
        {
          "output_type": "execute_result",
          "data": {
            "text/html": [
              "<div>\n",
              "<style scoped>\n",
              "    .dataframe tbody tr th:only-of-type {\n",
              "        vertical-align: middle;\n",
              "    }\n",
              "\n",
              "    .dataframe tbody tr th {\n",
              "        vertical-align: top;\n",
              "    }\n",
              "\n",
              "    .dataframe thead th {\n",
              "        text-align: right;\n",
              "    }\n",
              "</style>\n",
              "<table border=\"1\" class=\"dataframe\">\n",
              "  <thead>\n",
              "    <tr style=\"text-align: right;\">\n",
              "      <th></th>\n",
              "      <th>band_singer</th>\n",
              "      <th>ranking</th>\n",
              "      <th>song</th>\n",
              "      <th>songurl</th>\n",
              "      <th>titletext</th>\n",
              "      <th>url</th>\n",
              "      <th>year</th>\n",
              "    </tr>\n",
              "  </thead>\n",
              "  <tbody>\n",
              "    <tr>\n",
              "      <th>0</th>\n",
              "      <td>[Boyz II Men]</td>\n",
              "      <td>1</td>\n",
              "      <td>[End of the Road]</td>\n",
              "      <td>[/wiki/End_of_the_Road_(Boyz_II_Men_song)]</td>\n",
              "      <td>End of the Road</td>\n",
              "      <td>[/wiki/Boyz_II_Men]</td>\n",
              "      <td>1992</td>\n",
              "    </tr>\n",
              "    <tr>\n",
              "      <th>1</th>\n",
              "      <td>[Sir Mix-a-Lot]</td>\n",
              "      <td>2</td>\n",
              "      <td>[Baby Got Back]</td>\n",
              "      <td>[/wiki/Baby_Got_Back]</td>\n",
              "      <td>Baby Got Back</td>\n",
              "      <td>[/wiki/Sir_Mix-a-Lot]</td>\n",
              "      <td>1992</td>\n",
              "    </tr>\n",
              "    <tr>\n",
              "      <th>2</th>\n",
              "      <td>[Kris Kross]</td>\n",
              "      <td>3</td>\n",
              "      <td>[Jump]</td>\n",
              "      <td>[/wiki/Jump_(Kris_Kross_song)]</td>\n",
              "      <td>Jump</td>\n",
              "      <td>[/wiki/Kris_Kross]</td>\n",
              "      <td>1992</td>\n",
              "    </tr>\n",
              "    <tr>\n",
              "      <th>3</th>\n",
              "      <td>[Vanessa Williams]</td>\n",
              "      <td>4</td>\n",
              "      <td>[Save the Best for Last]</td>\n",
              "      <td>[/wiki/Save_the_Best_for_Last]</td>\n",
              "      <td>Save the Best for Last</td>\n",
              "      <td>[/wiki/Vanessa_L._Williams]</td>\n",
              "      <td>1992</td>\n",
              "    </tr>\n",
              "    <tr>\n",
              "      <th>4</th>\n",
              "      <td>[TLC]</td>\n",
              "      <td>5</td>\n",
              "      <td>[Baby-Baby-Baby]</td>\n",
              "      <td>[/wiki/Baby-Baby-Baby]</td>\n",
              "      <td>Baby-Baby-Baby</td>\n",
              "      <td>[/wiki/TLC_(band)]</td>\n",
              "      <td>1992</td>\n",
              "    </tr>\n",
              "  </tbody>\n",
              "</table>\n",
              "</div>"
            ],
            "text/plain": [
              "          band_singer ranking  ...                          url  year\n",
              "0       [Boyz II Men]       1  ...          [/wiki/Boyz_II_Men]  1992\n",
              "1     [Sir Mix-a-Lot]       2  ...        [/wiki/Sir_Mix-a-Lot]  1992\n",
              "2        [Kris Kross]       3  ...           [/wiki/Kris_Kross]  1992\n",
              "3  [Vanessa Williams]       4  ...  [/wiki/Vanessa_L._Williams]  1992\n",
              "4               [TLC]       5  ...           [/wiki/TLC_(band)]  1992\n",
              "\n",
              "[5 rows x 7 columns]"
            ]
          },
          "metadata": {
            "tags": []
          },
          "execution_count": 30
        }
      ]
    },
    {
      "cell_type": "code",
      "metadata": {
        "id": "9qIlK8c714sl"
      },
      "source": [
        "flatframe = pd.DataFrame(df1)\r\n",
        "#flatframe1.head(5)"
      ],
      "execution_count": null,
      "outputs": []
    },
    {
      "cell_type": "code",
      "metadata": {
        "colab": {
          "base_uri": "https://localhost:8080/"
        },
        "id": "fRXSGQqr1eW-",
        "outputId": "62b62ab6-06b3-42e2-b29b-bbbce9f25ec0"
      },
      "source": [
        "flatframe.year.unique"
      ],
      "execution_count": null,
      "outputs": [
        {
          "output_type": "execute_result",
          "data": {
            "text/plain": [
              "<bound method Series.unique of 0     1992\n",
              "1     1992\n",
              "2     1992\n",
              "3     1992\n",
              "4     1992\n",
              "      ... \n",
              "95    2020\n",
              "96    2020\n",
              "97    2020\n",
              "98    2020\n",
              "99    2020\n",
              "Name: year, Length: 2900, dtype: int64>"
            ]
          },
          "metadata": {
            "tags": []
          },
          "execution_count": 32
        }
      ]
    },
    {
      "cell_type": "markdown",
      "metadata": {
        "id": "KCPYpq8Ltu72"
      },
      "source": [
        "Check your dataframes data types and convert them to the correct data types if needed. "
      ]
    },
    {
      "cell_type": "code",
      "metadata": {
        "id": "RYnRAOZilm7d",
        "jupyter": {
          "outputs_hidden": false
        },
        "scrolled": true
      },
      "source": [
        "flatframe.reset_index(inplace = True)"
      ],
      "execution_count": null,
      "outputs": []
    },
    {
      "cell_type": "code",
      "metadata": {
        "id": "wftoYesOSXL5",
        "colab": {
          "base_uri": "https://localhost:8080/"
        },
        "outputId": "1f81c49d-baa5-4a45-dd04-a64c7ff77f04"
      },
      "source": [
        "#clean dataframe, create new rows for singles with multiple band_singers\r\n",
        "\r\n",
        "cols = ['band_singer', 'song', 'songurl', 'url']\r\n",
        "for col in cols:\r\n",
        "    flatframe[col] = flatframe[col].apply(lambda x: x[0] if type(x) == list and len(x)==1 else x) \r\n",
        "    \r\n",
        "bands_expanded = flatframe.apply(lambda x: pd.Series(x['band_singer']),axis=1).stack().reset_index(level=1, drop=True)\r\n",
        "urls_expanded = flatframe.apply(lambda x: pd.Series(x['url']),axis=1).stack().reset_index(level=1, drop=True)\r\n",
        "df_bandrows = pd.concat([bands_expanded, urls_expanded], axis = 1)\r\n",
        "df_bandrows.columns = ['band_singer', 'url']\r\n",
        "\r\n",
        "flatframe = flatframe.drop(df_bandrows.columns, axis=1).join(df_bandrows)\r\n",
        "#clean rankings, strip new line\r\n",
        "flatframe.ranking = flatframe.ranking.str.strip('\\n')"
      ],
      "execution_count": null,
      "outputs": [
        {
          "output_type": "stream",
          "text": [
            "/usr/local/lib/python3.6/dist-packages/ipykernel_launcher.py:7: DeprecationWarning: The default dtype for empty Series will be 'object' instead of 'float64' in a future version. Specify a dtype explicitly to silence this warning.\n",
            "  import sys\n",
            "/usr/local/lib/python3.6/dist-packages/ipykernel_launcher.py:8: DeprecationWarning: The default dtype for empty Series will be 'object' instead of 'float64' in a future version. Specify a dtype explicitly to silence this warning.\n",
            "  \n"
          ],
          "name": "stderr"
        }
      ]
    },
    {
      "cell_type": "code",
      "metadata": {
        "id": "kVDpkuyoSZFp"
      },
      "source": [
        "#create new row for singles with multiple songs \r\n",
        "\r\n",
        "newframe =flatframe[flatframe.song.apply(lambda x: type(x) == list)]\r\n",
        "flatframe_dropped = flatframe[flatframe.song.apply(lambda x: type(x) != list)]\r\n",
        "\r\n",
        "songs_expanded = newframe.apply(lambda x: pd.Series(x['song']),axis=1).stack().reset_index(level=1, drop=True)\r\n",
        "songurls_expanded = newframe.apply(lambda x: pd.Series(x['songurl']),axis=1).stack().reset_index(level=1, drop=True)\r\n",
        "\r\n",
        "\r\n",
        "df_expanded = pd.concat([songs_expanded, songurls_expanded], axis = 1)\r\n",
        "df_expanded.columns = ['song', 'songurl']\r\n",
        "\r\n",
        "flatframe = flatframe.drop(df_expanded.columns, axis = 1).join(df_expanded, how = 'inner')\r\n",
        "flatframe = pd.concat([flatframe_dropped, flatframe], sort = True)\r\n",
        "flatframe = flatframe[['ranking', 'band_singer','song', 'songurl', \r\n",
        "                         'titletext', 'url', 'year']]"
      ],
      "execution_count": null,
      "outputs": []
    },
    {
      "cell_type": "code",
      "metadata": {
        "id": "cT_NuJroShoQ"
      },
      "source": [
        "flatframe = flatframe[~flatframe.ranking.isna()]"
      ],
      "execution_count": null,
      "outputs": []
    },
    {
      "cell_type": "code",
      "metadata": {
        "id": "TPAJN0XESklC"
      },
      "source": [
        "#handle case of ranking ties\r\n",
        "flatframe.loc[:,0] = flatframe.ranking.apply(lambda x: '0' if x == 'Tie' else x)\r\n",
        "\r\n",
        "flatframe = flatframe.astype({'ranking': int, 'url': str})\r\n",
        "tied_rankings = flatframe[flatframe.ranking == 0].index\r\n",
        "tied_values = [38, 55,86, 92, 92]\r\n",
        "for i, tie in enumerate(tied_rankings):\r\n",
        "    flatframe.loc[tie, 'ranking' ] = tied_values[i]"
      ],
      "execution_count": null,
      "outputs": []
    },
    {
      "cell_type": "code",
      "metadata": {
        "colab": {
          "base_uri": "https://localhost:8080/",
          "height": 198
        },
        "id": "-HXPADQrSqMJ",
        "outputId": "0338fc52-6a76-4247-8579-ba9d624a351d"
      },
      "source": [
        "flatframe.head(5)\r\n",
        "# flatframe.0.head()\r\n",
        "flatframe1 = flatframe.copy()\r\n",
        "flatframe = flatframe.drop(0, axis=1)\r\n",
        "flatframe.head(5)"
      ],
      "execution_count": null,
      "outputs": [
        {
          "output_type": "execute_result",
          "data": {
            "text/html": [
              "<div>\n",
              "<style scoped>\n",
              "    .dataframe tbody tr th:only-of-type {\n",
              "        vertical-align: middle;\n",
              "    }\n",
              "\n",
              "    .dataframe tbody tr th {\n",
              "        vertical-align: top;\n",
              "    }\n",
              "\n",
              "    .dataframe thead th {\n",
              "        text-align: right;\n",
              "    }\n",
              "</style>\n",
              "<table border=\"1\" class=\"dataframe\">\n",
              "  <thead>\n",
              "    <tr style=\"text-align: right;\">\n",
              "      <th></th>\n",
              "      <th>ranking</th>\n",
              "      <th>band_singer</th>\n",
              "      <th>song</th>\n",
              "      <th>songurl</th>\n",
              "      <th>titletext</th>\n",
              "      <th>url</th>\n",
              "      <th>year</th>\n",
              "    </tr>\n",
              "  </thead>\n",
              "  <tbody>\n",
              "    <tr>\n",
              "      <th>0</th>\n",
              "      <td>1</td>\n",
              "      <td>Boyz II Men</td>\n",
              "      <td>End of the Road</td>\n",
              "      <td>/wiki/End_of_the_Road_(Boyz_II_Men_song)</td>\n",
              "      <td>End of the Road</td>\n",
              "      <td>/wiki/Boyz_II_Men</td>\n",
              "      <td>1992</td>\n",
              "    </tr>\n",
              "    <tr>\n",
              "      <th>1</th>\n",
              "      <td>2</td>\n",
              "      <td>Sir Mix-a-Lot</td>\n",
              "      <td>Baby Got Back</td>\n",
              "      <td>/wiki/Baby_Got_Back</td>\n",
              "      <td>Baby Got Back</td>\n",
              "      <td>/wiki/Sir_Mix-a-Lot</td>\n",
              "      <td>1992</td>\n",
              "    </tr>\n",
              "    <tr>\n",
              "      <th>2</th>\n",
              "      <td>3</td>\n",
              "      <td>Kris Kross</td>\n",
              "      <td>Jump</td>\n",
              "      <td>/wiki/Jump_(Kris_Kross_song)</td>\n",
              "      <td>Jump</td>\n",
              "      <td>/wiki/Kris_Kross</td>\n",
              "      <td>1992</td>\n",
              "    </tr>\n",
              "    <tr>\n",
              "      <th>3</th>\n",
              "      <td>4</td>\n",
              "      <td>Vanessa Williams</td>\n",
              "      <td>Save the Best for Last</td>\n",
              "      <td>/wiki/Save_the_Best_for_Last</td>\n",
              "      <td>Save the Best for Last</td>\n",
              "      <td>/wiki/Vanessa_L._Williams</td>\n",
              "      <td>1992</td>\n",
              "    </tr>\n",
              "    <tr>\n",
              "      <th>4</th>\n",
              "      <td>5</td>\n",
              "      <td>TLC</td>\n",
              "      <td>Baby-Baby-Baby</td>\n",
              "      <td>/wiki/Baby-Baby-Baby</td>\n",
              "      <td>Baby-Baby-Baby</td>\n",
              "      <td>/wiki/TLC_(band)</td>\n",
              "      <td>1992</td>\n",
              "    </tr>\n",
              "  </tbody>\n",
              "</table>\n",
              "</div>"
            ],
            "text/plain": [
              "   ranking       band_singer  ...                        url  year\n",
              "0        1       Boyz II Men  ...          /wiki/Boyz_II_Men  1992\n",
              "1        2     Sir Mix-a-Lot  ...        /wiki/Sir_Mix-a-Lot  1992\n",
              "2        3        Kris Kross  ...           /wiki/Kris_Kross  1992\n",
              "3        4  Vanessa Williams  ...  /wiki/Vanessa_L._Williams  1992\n",
              "4        5               TLC  ...           /wiki/TLC_(band)  1992\n",
              "\n",
              "[5 rows x 7 columns]"
            ]
          },
          "metadata": {
            "tags": []
          },
          "execution_count": 38
        }
      ]
    },
    {
      "cell_type": "markdown",
      "metadata": {
        "id": "4nSngWg6WJqM"
      },
      "source": [
        "We use this dataframe in Homework 2, so store this dataframe so you won't need to run this again!\r\n",
        "\r\n",
        "The easiest way is to pickle it using to_pickle:"
      ]
    },
    {
      "cell_type": "code",
      "metadata": {
        "id": "5937BG6tWGph"
      },
      "source": [
        "#Store the dataframe and delete the variable\r\n",
        "flatframe.to_pickle('/content/flatframedf')\r\n",
        "del flatframe"
      ],
      "execution_count": null,
      "outputs": []
    },
    {
      "cell_type": "code",
      "metadata": {
        "id": "fLkQcqmOuFR9",
        "colab": {
          "base_uri": "https://localhost:8080/",
          "height": 198
        },
        "outputId": "c9d1de83-8982-4ac5-c2e1-9e013ec36c5b"
      },
      "source": [
        "#Loading in the dataframe\r\n",
        "flatframe = pd.read_pickle('/content/flatframedf')\r\n",
        "flatframe.head()"
      ],
      "execution_count": null,
      "outputs": [
        {
          "output_type": "execute_result",
          "data": {
            "text/html": [
              "<div>\n",
              "<style scoped>\n",
              "    .dataframe tbody tr th:only-of-type {\n",
              "        vertical-align: middle;\n",
              "    }\n",
              "\n",
              "    .dataframe tbody tr th {\n",
              "        vertical-align: top;\n",
              "    }\n",
              "\n",
              "    .dataframe thead th {\n",
              "        text-align: right;\n",
              "    }\n",
              "</style>\n",
              "<table border=\"1\" class=\"dataframe\">\n",
              "  <thead>\n",
              "    <tr style=\"text-align: right;\">\n",
              "      <th></th>\n",
              "      <th>ranking</th>\n",
              "      <th>band_singer</th>\n",
              "      <th>song</th>\n",
              "      <th>songurl</th>\n",
              "      <th>titletext</th>\n",
              "      <th>url</th>\n",
              "      <th>year</th>\n",
              "    </tr>\n",
              "  </thead>\n",
              "  <tbody>\n",
              "    <tr>\n",
              "      <th>0</th>\n",
              "      <td>1</td>\n",
              "      <td>Boyz II Men</td>\n",
              "      <td>End of the Road</td>\n",
              "      <td>/wiki/End_of_the_Road_(Boyz_II_Men_song)</td>\n",
              "      <td>End of the Road</td>\n",
              "      <td>/wiki/Boyz_II_Men</td>\n",
              "      <td>1992</td>\n",
              "    </tr>\n",
              "    <tr>\n",
              "      <th>1</th>\n",
              "      <td>2</td>\n",
              "      <td>Sir Mix-a-Lot</td>\n",
              "      <td>Baby Got Back</td>\n",
              "      <td>/wiki/Baby_Got_Back</td>\n",
              "      <td>Baby Got Back</td>\n",
              "      <td>/wiki/Sir_Mix-a-Lot</td>\n",
              "      <td>1992</td>\n",
              "    </tr>\n",
              "    <tr>\n",
              "      <th>2</th>\n",
              "      <td>3</td>\n",
              "      <td>Kris Kross</td>\n",
              "      <td>Jump</td>\n",
              "      <td>/wiki/Jump_(Kris_Kross_song)</td>\n",
              "      <td>Jump</td>\n",
              "      <td>/wiki/Kris_Kross</td>\n",
              "      <td>1992</td>\n",
              "    </tr>\n",
              "    <tr>\n",
              "      <th>3</th>\n",
              "      <td>4</td>\n",
              "      <td>Vanessa Williams</td>\n",
              "      <td>Save the Best for Last</td>\n",
              "      <td>/wiki/Save_the_Best_for_Last</td>\n",
              "      <td>Save the Best for Last</td>\n",
              "      <td>/wiki/Vanessa_L._Williams</td>\n",
              "      <td>1992</td>\n",
              "    </tr>\n",
              "    <tr>\n",
              "      <th>4</th>\n",
              "      <td>5</td>\n",
              "      <td>TLC</td>\n",
              "      <td>Baby-Baby-Baby</td>\n",
              "      <td>/wiki/Baby-Baby-Baby</td>\n",
              "      <td>Baby-Baby-Baby</td>\n",
              "      <td>/wiki/TLC_(band)</td>\n",
              "      <td>1992</td>\n",
              "    </tr>\n",
              "  </tbody>\n",
              "</table>\n",
              "</div>"
            ],
            "text/plain": [
              "   ranking       band_singer  ...                        url  year\n",
              "0        1       Boyz II Men  ...          /wiki/Boyz_II_Men  1992\n",
              "1        2     Sir Mix-a-Lot  ...        /wiki/Sir_Mix-a-Lot  1992\n",
              "2        3        Kris Kross  ...           /wiki/Kris_Kross  1992\n",
              "3        4  Vanessa Williams  ...  /wiki/Vanessa_L._Williams  1992\n",
              "4        5               TLC  ...           /wiki/TLC_(band)  1992\n",
              "\n",
              "[5 rows x 7 columns]"
            ]
          },
          "metadata": {
            "tags": []
          },
          "execution_count": 40
        }
      ]
    },
    {
      "cell_type": "markdown",
      "metadata": {
        "id": "Fc8dNE4nlm7t"
      },
      "source": [
        "## Q3: Scrape and Parse Wikipedia for Information about Artists and Bands \n",
        "#### [25 points]"
      ]
    },
    {
      "cell_type": "markdown",
      "metadata": {
        "id": "ACpaxf42lm7w"
      },
      "source": [
        "Now, we need to fetch information about the singers or bands for all the songs in a list of years."
      ]
    },
    {
      "cell_type": "markdown",
      "metadata": {
        "id": "EEWBhVhQlm74"
      },
      "source": [
        "### 3.1 Scrape the artist's Wikipedia webpages "
      ]
    },
    {
      "cell_type": "markdown",
      "metadata": {
        "id": "ddXAyi5Vlm77"
      },
      "source": [
        "Since we have hundreds of artists webpages to scrape, we have created a function which implements caching in order to speed up this process.\r\n",
        "\r\n",
        "The cache object `urlcache` that will avoid redundant HTTP requests (e.g. an artist might have multiple singles on a single year, or be on the list over a span of years). Remember that this function is designed to be used in a loop over years, and then a loop over songs per year. Since network requests are relatively slow, if we have already requested for a singer or band's wikipedia page, caching the results is a smart thing to do.\r\n",
        "\r\n",
        "\r\n",
        "\r\n",
        "Notice that we have wrapped the call in _an exception block_. If the request gets an HTTP code different from 200, the cells for that URL will have a value of 1; and if the request completely fails (e.g. no network connection) the cell will have a value of 2. This will allow you to analyse the failed requests."
      ]
    },
    {
      "cell_type": "code",
      "metadata": {
        "id": "xLIr5RLOlm8C",
        "jupyter": {
          "outputs_hidden": false
        },
        "scrolled": true
      },
      "source": [
        "urlcache={}\n",
        "def get_page(url):\n",
        "    if (url not in urlcache) or (urlcache[url]==1) or (urlcache[url]==2):\n",
        "        time.sleep(1)\n",
        "        try:\n",
        "            r = requests.get(\"http://en.wikipedia.org%s\" % url)\n",
        "            if r.status_code == 200:\n",
        "                urlcache[url] = r.text\n",
        "            else:\n",
        "                urlcache[url] = 1\n",
        "        except:\n",
        "            urlcache[url] = 2\n",
        "    return urlcache[url]"
      ],
      "execution_count": null,
      "outputs": []
    },
    {
      "cell_type": "markdown",
      "metadata": {
        "id": "4KvxocZMlm8F"
      },
      "source": [
        "Before we apply our function to the dataframe, let us sort `flatframe` by year. This will ensure that we will hit the cache most as singers who show up repeatedly in the rankings will have their information already pulled."
      ]
    },
    {
      "cell_type": "code",
      "metadata": {
        "colab": {
          "base_uri": "https://localhost:8080/",
          "height": 343
        },
        "id": "YWqk68KyEeXy",
        "outputId": "403f7fb0-b71a-4bf7-bc77-3b062147868f"
      },
      "source": [
        "flatframe=flatframe.sort_values('year')\r\n",
        "flatframe.head()"
      ],
      "execution_count": null,
      "outputs": [
        {
          "output_type": "execute_result",
          "data": {
            "text/html": [
              "<div>\n",
              "<style scoped>\n",
              "    .dataframe tbody tr th:only-of-type {\n",
              "        vertical-align: middle;\n",
              "    }\n",
              "\n",
              "    .dataframe tbody tr th {\n",
              "        vertical-align: top;\n",
              "    }\n",
              "\n",
              "    .dataframe thead th {\n",
              "        text-align: right;\n",
              "    }\n",
              "</style>\n",
              "<table border=\"1\" class=\"dataframe\">\n",
              "  <thead>\n",
              "    <tr style=\"text-align: right;\">\n",
              "      <th></th>\n",
              "      <th>ranking</th>\n",
              "      <th>band_singer</th>\n",
              "      <th>song</th>\n",
              "      <th>songurl</th>\n",
              "      <th>titletext</th>\n",
              "      <th>url</th>\n",
              "      <th>year</th>\n",
              "    </tr>\n",
              "  </thead>\n",
              "  <tbody>\n",
              "    <tr>\n",
              "      <th>0</th>\n",
              "      <td>1</td>\n",
              "      <td>Boyz II Men</td>\n",
              "      <td>End of the Road</td>\n",
              "      <td>/wiki/End_of_the_Road_(Boyz_II_Men_song)</td>\n",
              "      <td>End of the Road</td>\n",
              "      <td>/wiki/Boyz_II_Men</td>\n",
              "      <td>1992</td>\n",
              "    </tr>\n",
              "    <tr>\n",
              "      <th>71</th>\n",
              "      <td>72</td>\n",
              "      <td>Ugly Kid Joe</td>\n",
              "      <td>Everything About You</td>\n",
              "      <td>/wiki/Everything_About_You_(Ugly_Kid_Joe_song)</td>\n",
              "      <td>Everything About You</td>\n",
              "      <td>/wiki/Ugly_Kid_Joe</td>\n",
              "      <td>1992</td>\n",
              "    </tr>\n",
              "    <tr>\n",
              "      <th>70</th>\n",
              "      <td>71</td>\n",
              "      <td>The Cure</td>\n",
              "      <td>Friday I'm in Love</td>\n",
              "      <td>/wiki/Friday_I%27m_in_Love</td>\n",
              "      <td>Friday I'm in Love</td>\n",
              "      <td>/wiki/The_Cure</td>\n",
              "      <td>1992</td>\n",
              "    </tr>\n",
              "    <tr>\n",
              "      <th>69</th>\n",
              "      <td>70</td>\n",
              "      <td>Bryan Adams</td>\n",
              "      <td>Do I Have to Say the Words?</td>\n",
              "      <td>/wiki/Do_I_Have_to_Say_the_Words%3F</td>\n",
              "      <td>Do I Have to Say the Words?</td>\n",
              "      <td>/wiki/Bryan_Adams</td>\n",
              "      <td>1992</td>\n",
              "    </tr>\n",
              "    <tr>\n",
              "      <th>68</th>\n",
              "      <td>69</td>\n",
              "      <td>Marky Mark and the Funky Bunch</td>\n",
              "      <td>Wildside</td>\n",
              "      <td>/wiki/Wildside_(Marky_Mark_and_the_Funky_Bunch...</td>\n",
              "      <td>Wildside</td>\n",
              "      <td>/wiki/Marky_Mark_and_the_Funky_Bunch</td>\n",
              "      <td>1992</td>\n",
              "    </tr>\n",
              "  </tbody>\n",
              "</table>\n",
              "</div>"
            ],
            "text/plain": [
              "    ranking  ...  year\n",
              "0         1  ...  1992\n",
              "71       72  ...  1992\n",
              "70       71  ...  1992\n",
              "69       70  ...  1992\n",
              "68       69  ...  1992\n",
              "\n",
              "[5 rows x 7 columns]"
            ]
          },
          "metadata": {
            "tags": []
          },
          "execution_count": 34
        }
      ]
    },
    {
      "cell_type": "code",
      "metadata": {
        "id": "x5H3hSU2Hn0M"
      },
      "source": [
        "flatframe = flatframe[~flatframe.ranking.isna()]"
      ],
      "execution_count": null,
      "outputs": []
    },
    {
      "cell_type": "code",
      "metadata": {
        "colab": {
          "base_uri": "https://localhost:8080/",
          "height": 592
        },
        "id": "JH1QyZDsOENY",
        "outputId": "ee2646fc-c89a-453a-b04b-6eb1c5af948f"
      },
      "source": [
        "flatframe"
      ],
      "execution_count": null,
      "outputs": [
        {
          "output_type": "execute_result",
          "data": {
            "text/html": [
              "<div>\n",
              "<style scoped>\n",
              "    .dataframe tbody tr th:only-of-type {\n",
              "        vertical-align: middle;\n",
              "    }\n",
              "\n",
              "    .dataframe tbody tr th {\n",
              "        vertical-align: top;\n",
              "    }\n",
              "\n",
              "    .dataframe thead th {\n",
              "        text-align: right;\n",
              "    }\n",
              "</style>\n",
              "<table border=\"1\" class=\"dataframe\">\n",
              "  <thead>\n",
              "    <tr style=\"text-align: right;\">\n",
              "      <th></th>\n",
              "      <th>ranking</th>\n",
              "      <th>band_singer</th>\n",
              "      <th>song</th>\n",
              "      <th>songurl</th>\n",
              "      <th>titletext</th>\n",
              "      <th>url</th>\n",
              "      <th>year</th>\n",
              "    </tr>\n",
              "  </thead>\n",
              "  <tbody>\n",
              "    <tr>\n",
              "      <th>0</th>\n",
              "      <td>1</td>\n",
              "      <td>Boyz II Men</td>\n",
              "      <td>End of the Road</td>\n",
              "      <td>/wiki/End_of_the_Road_(Boyz_II_Men_song)</td>\n",
              "      <td>End of the Road</td>\n",
              "      <td>/wiki/Boyz_II_Men</td>\n",
              "      <td>1992</td>\n",
              "    </tr>\n",
              "    <tr>\n",
              "      <th>71</th>\n",
              "      <td>72</td>\n",
              "      <td>Ugly Kid Joe</td>\n",
              "      <td>Everything About You</td>\n",
              "      <td>/wiki/Everything_About_You_(Ugly_Kid_Joe_song)</td>\n",
              "      <td>Everything About You</td>\n",
              "      <td>/wiki/Ugly_Kid_Joe</td>\n",
              "      <td>1992</td>\n",
              "    </tr>\n",
              "    <tr>\n",
              "      <th>70</th>\n",
              "      <td>71</td>\n",
              "      <td>The Cure</td>\n",
              "      <td>Friday I'm in Love</td>\n",
              "      <td>/wiki/Friday_I%27m_in_Love</td>\n",
              "      <td>Friday I'm in Love</td>\n",
              "      <td>/wiki/The_Cure</td>\n",
              "      <td>1992</td>\n",
              "    </tr>\n",
              "    <tr>\n",
              "      <th>69</th>\n",
              "      <td>70</td>\n",
              "      <td>Bryan Adams</td>\n",
              "      <td>Do I Have to Say the Words?</td>\n",
              "      <td>/wiki/Do_I_Have_to_Say_the_Words%3F</td>\n",
              "      <td>Do I Have to Say the Words?</td>\n",
              "      <td>/wiki/Bryan_Adams</td>\n",
              "      <td>1992</td>\n",
              "    </tr>\n",
              "    <tr>\n",
              "      <th>68</th>\n",
              "      <td>69</td>\n",
              "      <td>Marky Mark and the Funky Bunch</td>\n",
              "      <td>Wildside</td>\n",
              "      <td>/wiki/Wildside_(Marky_Mark_and_the_Funky_Bunch...</td>\n",
              "      <td>Wildside</td>\n",
              "      <td>/wiki/Marky_Mark_and_the_Funky_Bunch</td>\n",
              "      <td>1992</td>\n",
              "    </tr>\n",
              "    <tr>\n",
              "      <th>...</th>\n",
              "      <td>...</td>\n",
              "      <td>...</td>\n",
              "      <td>...</td>\n",
              "      <td>...</td>\n",
              "      <td>...</td>\n",
              "      <td>...</td>\n",
              "      <td>...</td>\n",
              "    </tr>\n",
              "    <tr>\n",
              "      <th>2844</th>\n",
              "      <td>45</td>\n",
              "      <td>Travis Scott</td>\n",
              "      <td>Highest in the Room</td>\n",
              "      <td>/wiki/Highest_in_the_Room</td>\n",
              "      <td>Highest in the Room</td>\n",
              "      <td>/wiki/Travis_Scott</td>\n",
              "      <td>2020</td>\n",
              "    </tr>\n",
              "    <tr>\n",
              "      <th>2845</th>\n",
              "      <td>46</td>\n",
              "      <td>Billie Eilish</td>\n",
              "      <td>Bad Guy</td>\n",
              "      <td>/wiki/Bad_Guy_(Billie_Eilish_song)</td>\n",
              "      <td>Bad Guy</td>\n",
              "      <td>/wiki/Billie_Eilish</td>\n",
              "      <td>2020</td>\n",
              "    </tr>\n",
              "    <tr>\n",
              "      <th>2846</th>\n",
              "      <td>47</td>\n",
              "      <td>Iann Dior</td>\n",
              "      <td>Mood</td>\n",
              "      <td>/wiki/Mood_(song)</td>\n",
              "      <td>Mood</td>\n",
              "      <td>/wiki/Iann_Dior</td>\n",
              "      <td>2020</td>\n",
              "    </tr>\n",
              "    <tr>\n",
              "      <th>2847</th>\n",
              "      <td>48</td>\n",
              "      <td>Ariana Grande</td>\n",
              "      <td>Rain on Me</td>\n",
              "      <td>/wiki/Rain_on_Me_(Lady_Gaga_and_Ariana_Grande_...</td>\n",
              "      <td>Rain on Me</td>\n",
              "      <td>/wiki/Ariana_Grande</td>\n",
              "      <td>2020</td>\n",
              "    </tr>\n",
              "    <tr>\n",
              "      <th>2818</th>\n",
              "      <td>19</td>\n",
              "      <td>Saint Jhn</td>\n",
              "      <td>Imanbek</td>\n",
              "      <td>/wiki/Imanbek</td>\n",
              "      <td>Roses/Imanbek</td>\n",
              "      <td>/wiki/Saint_Jhn</td>\n",
              "      <td>2020</td>\n",
              "    </tr>\n",
              "  </tbody>\n",
              "</table>\n",
              "<p>3914 rows × 7 columns</p>\n",
              "</div>"
            ],
            "text/plain": [
              "      ranking  ...  year\n",
              "0           1  ...  1992\n",
              "71         72  ...  1992\n",
              "70         71  ...  1992\n",
              "69         70  ...  1992\n",
              "68         69  ...  1992\n",
              "...       ...  ...   ...\n",
              "2844       45  ...  2020\n",
              "2845       46  ...  2020\n",
              "2846       47  ...  2020\n",
              "2847       48  ...  2020\n",
              "2818       19  ...  2020\n",
              "\n",
              "[3914 rows x 7 columns]"
            ]
          },
          "metadata": {
            "tags": []
          },
          "execution_count": 36
        }
      ]
    },
    {
      "cell_type": "code",
      "metadata": {
        "collapsed": true,
        "id": "jGHEg1IDlm8O",
        "jupyter": {
          "outputs_hidden": true
        },
        "scrolled": true,
        "colab": {
          "base_uri": "https://localhost:8080/"
        },
        "outputId": "bd8922e5-8f7f-486c-e7e9-f834ab5c6003"
      },
      "source": [
        "# Here we are populating the url cache\n",
        "#Note that this function will take aroun    d 20 minutes to run as we are requestinf for several pages\n",
        "#This function is designed to be run again and again: it just tries to make sure that there are no unresolved pages left. \n",
        "flatframe[\"url\"].apply(get_page)\n",
        "flatframe[\"url\"]"
      ],
      "execution_count": null,
      "outputs": [
        {
          "output_type": "execute_result",
          "data": {
            "text/plain": [
              "0                          /wiki/Boyz_II_Men\n",
              "71                        /wiki/Ugly_Kid_Joe\n",
              "70                            /wiki/The_Cure\n",
              "69                         /wiki/Bryan_Adams\n",
              "68      /wiki/Marky_Mark_and_the_Funky_Bunch\n",
              "                        ...                 \n",
              "2844                      /wiki/Travis_Scott\n",
              "2845                     /wiki/Billie_Eilish\n",
              "2846                         /wiki/Iann_Dior\n",
              "2847                     /wiki/Ariana_Grande\n",
              "2818                         /wiki/Saint_Jhn\n",
              "Name: url, Length: 3914, dtype: object"
            ]
          },
          "metadata": {
            "tags": []
          },
          "execution_count": 37
        }
      ]
    },
    {
      "cell_type": "code",
      "metadata": {
        "colab": {
          "base_uri": "https://localhost:8080/"
        },
        "id": "vtH5ch-Jlm8X",
        "jupyter": {
          "outputs_hidden": false
        },
        "scrolled": true,
        "outputId": "7a62dcd3-6c3e-4857-f8bc-9df2e8de9c70"
      },
      "source": [
        "#Let us make sure that there are no unresolved pages\n",
        "#The sum below should be 0, and the boolean True. If that is not the case, run the above cell again until you get a sum of 0 and a boolean True\n",
        "print (np.sum([(urlcache[k]==1) or (urlcache[k]==2) and isinstance(k,str) for k in urlcache]))\n",
        "print (len(flatframe.url.unique())==len(urlcache))#we got all of the urls"
      ],
      "execution_count": null,
      "outputs": [
        {
          "output_type": "stream",
          "text": [
            "0\n",
            "True\n"
          ],
          "name": "stdout"
        }
      ]
    },
    {
      "cell_type": "code",
      "metadata": {
        "id": "u-g3mOWrlm8c",
        "jupyter": {
          "outputs_hidden": false
        }
      },
      "source": [
        "#Let's save the `urlcache` and remove the old object. \n",
        "keys_values = urlcache.items()\n",
        "urlcache = {str(key): str(value) for key, value in keys_values}\n",
        "with open(\"/content/artistinfo.json\",\"w\") as fd:\n",
        "    json.dump(urlcache, fd)\n",
        "del urlcache"
      ],
      "execution_count": null,
      "outputs": []
    },
    {
      "cell_type": "code",
      "metadata": {
        "id": "ctcBqdEPlm8f",
        "jupyter": {
          "outputs_hidden": false
        },
        "scrolled": true
      },
      "source": [
        "with open(\"/content/artistinfo.json\") as json_file:\n",
        "    urlcache = json.load(json_file)"
      ],
      "execution_count": null,
      "outputs": []
    },
    {
      "cell_type": "code",
      "metadata": {
        "colab": {
          "base_uri": "https://localhost:8080/"
        },
        "id": "CuglKO5AHw4J",
        "outputId": "310a855b-9003-498e-dcd5-d0cbcd3a3a4f"
      },
      "source": [
        "flatframe.band_singer.value_counts()"
      ],
      "execution_count": null,
      "outputs": [
        {
          "output_type": "execute_result",
          "data": {
            "text/plain": [
              "Drake                  56\n",
              "Rihanna                46\n",
              "Lil Wayne              36\n",
              "Chris Brown            33\n",
              "Usher                  31\n",
              "                       ..\n",
              "Loreena McKennitt       1\n",
              "Billy Joel              1\n",
              "Technotronic            1\n",
              "Carl Thomas             1\n",
              "Diddy – Dirty Money     1\n",
              "Name: band_singer, Length: 1261, dtype: int64"
            ]
          },
          "metadata": {
            "tags": []
          },
          "execution_count": 42
        }
      ]
    },
    {
      "cell_type": "code",
      "metadata": {
        "colab": {
          "base_uri": "https://localhost:8080/",
          "height": 592
        },
        "id": "iDBC4VLaH7Za",
        "outputId": "f8b9cb77-b568-49fd-df84-2fe36f2bbe10"
      },
      "source": [
        "flatframe"
      ],
      "execution_count": null,
      "outputs": [
        {
          "output_type": "execute_result",
          "data": {
            "text/html": [
              "<div>\n",
              "<style scoped>\n",
              "    .dataframe tbody tr th:only-of-type {\n",
              "        vertical-align: middle;\n",
              "    }\n",
              "\n",
              "    .dataframe tbody tr th {\n",
              "        vertical-align: top;\n",
              "    }\n",
              "\n",
              "    .dataframe thead th {\n",
              "        text-align: right;\n",
              "    }\n",
              "</style>\n",
              "<table border=\"1\" class=\"dataframe\">\n",
              "  <thead>\n",
              "    <tr style=\"text-align: right;\">\n",
              "      <th></th>\n",
              "      <th>ranking</th>\n",
              "      <th>band_singer</th>\n",
              "      <th>song</th>\n",
              "      <th>songurl</th>\n",
              "      <th>titletext</th>\n",
              "      <th>url</th>\n",
              "      <th>year</th>\n",
              "    </tr>\n",
              "  </thead>\n",
              "  <tbody>\n",
              "    <tr>\n",
              "      <th>0</th>\n",
              "      <td>1</td>\n",
              "      <td>Boyz II Men</td>\n",
              "      <td>End of the Road</td>\n",
              "      <td>/wiki/End_of_the_Road_(Boyz_II_Men_song)</td>\n",
              "      <td>End of the Road</td>\n",
              "      <td>/wiki/Boyz_II_Men</td>\n",
              "      <td>1992</td>\n",
              "    </tr>\n",
              "    <tr>\n",
              "      <th>71</th>\n",
              "      <td>72</td>\n",
              "      <td>Ugly Kid Joe</td>\n",
              "      <td>Everything About You</td>\n",
              "      <td>/wiki/Everything_About_You_(Ugly_Kid_Joe_song)</td>\n",
              "      <td>Everything About You</td>\n",
              "      <td>/wiki/Ugly_Kid_Joe</td>\n",
              "      <td>1992</td>\n",
              "    </tr>\n",
              "    <tr>\n",
              "      <th>70</th>\n",
              "      <td>71</td>\n",
              "      <td>The Cure</td>\n",
              "      <td>Friday I'm in Love</td>\n",
              "      <td>/wiki/Friday_I%27m_in_Love</td>\n",
              "      <td>Friday I'm in Love</td>\n",
              "      <td>/wiki/The_Cure</td>\n",
              "      <td>1992</td>\n",
              "    </tr>\n",
              "    <tr>\n",
              "      <th>69</th>\n",
              "      <td>70</td>\n",
              "      <td>Bryan Adams</td>\n",
              "      <td>Do I Have to Say the Words?</td>\n",
              "      <td>/wiki/Do_I_Have_to_Say_the_Words%3F</td>\n",
              "      <td>Do I Have to Say the Words?</td>\n",
              "      <td>/wiki/Bryan_Adams</td>\n",
              "      <td>1992</td>\n",
              "    </tr>\n",
              "    <tr>\n",
              "      <th>68</th>\n",
              "      <td>69</td>\n",
              "      <td>Marky Mark and the Funky Bunch</td>\n",
              "      <td>Wildside</td>\n",
              "      <td>/wiki/Wildside_(Marky_Mark_and_the_Funky_Bunch...</td>\n",
              "      <td>Wildside</td>\n",
              "      <td>/wiki/Marky_Mark_and_the_Funky_Bunch</td>\n",
              "      <td>1992</td>\n",
              "    </tr>\n",
              "    <tr>\n",
              "      <th>...</th>\n",
              "      <td>...</td>\n",
              "      <td>...</td>\n",
              "      <td>...</td>\n",
              "      <td>...</td>\n",
              "      <td>...</td>\n",
              "      <td>...</td>\n",
              "      <td>...</td>\n",
              "    </tr>\n",
              "    <tr>\n",
              "      <th>2844</th>\n",
              "      <td>45</td>\n",
              "      <td>Travis Scott</td>\n",
              "      <td>Highest in the Room</td>\n",
              "      <td>/wiki/Highest_in_the_Room</td>\n",
              "      <td>Highest in the Room</td>\n",
              "      <td>/wiki/Travis_Scott</td>\n",
              "      <td>2020</td>\n",
              "    </tr>\n",
              "    <tr>\n",
              "      <th>2845</th>\n",
              "      <td>46</td>\n",
              "      <td>Billie Eilish</td>\n",
              "      <td>Bad Guy</td>\n",
              "      <td>/wiki/Bad_Guy_(Billie_Eilish_song)</td>\n",
              "      <td>Bad Guy</td>\n",
              "      <td>/wiki/Billie_Eilish</td>\n",
              "      <td>2020</td>\n",
              "    </tr>\n",
              "    <tr>\n",
              "      <th>2846</th>\n",
              "      <td>47</td>\n",
              "      <td>Iann Dior</td>\n",
              "      <td>Mood</td>\n",
              "      <td>/wiki/Mood_(song)</td>\n",
              "      <td>Mood</td>\n",
              "      <td>/wiki/Iann_Dior</td>\n",
              "      <td>2020</td>\n",
              "    </tr>\n",
              "    <tr>\n",
              "      <th>2847</th>\n",
              "      <td>48</td>\n",
              "      <td>Ariana Grande</td>\n",
              "      <td>Rain on Me</td>\n",
              "      <td>/wiki/Rain_on_Me_(Lady_Gaga_and_Ariana_Grande_...</td>\n",
              "      <td>Rain on Me</td>\n",
              "      <td>/wiki/Ariana_Grande</td>\n",
              "      <td>2020</td>\n",
              "    </tr>\n",
              "    <tr>\n",
              "      <th>2818</th>\n",
              "      <td>19</td>\n",
              "      <td>Saint Jhn</td>\n",
              "      <td>Imanbek</td>\n",
              "      <td>/wiki/Imanbek</td>\n",
              "      <td>Roses/Imanbek</td>\n",
              "      <td>/wiki/Saint_Jhn</td>\n",
              "      <td>2020</td>\n",
              "    </tr>\n",
              "  </tbody>\n",
              "</table>\n",
              "<p>3914 rows × 7 columns</p>\n",
              "</div>"
            ],
            "text/plain": [
              "      ranking  ...  year\n",
              "0           1  ...  1992\n",
              "71         72  ...  1992\n",
              "70         71  ...  1992\n",
              "69         70  ...  1992\n",
              "68         69  ...  1992\n",
              "...       ...  ...   ...\n",
              "2844       45  ...  2020\n",
              "2845       46  ...  2020\n",
              "2846       47  ...  2020\n",
              "2847       48  ...  2020\n",
              "2818       19  ...  2020\n",
              "\n",
              "[3914 rows x 7 columns]"
            ]
          },
          "metadata": {
            "tags": []
          },
          "execution_count": 47
        }
      ]
    },
    {
      "cell_type": "markdown",
      "metadata": {
        "id": "P_G84LnUlm8p"
      },
      "source": [
        "### 3.2 Parse the data"
      ]
    },
    {
      "cell_type": "markdown",
      "metadata": {
        "id": "urcGynNplm8r"
      },
      "source": [
        "Now, we need to extract the following information from each page. Write a function `singer_band_info(url, page_text)` that returns a dictionary. \n",
        "\n",
        "Here `url` should be the path the url corresponding to the singer's Wikipedia page (same as the previous dataframe `flatframe`), and page_text should be the HTML text for the corresponding artist's webpage. \n",
        "\n",
        "This function should return a dictionary which contains the following information:\n",
        "\n",
        "1. The genres of the band or singer. These genres should be urls, to ensure their uniqueness. Create a list, `genres`, of these urls. If there are no genres, use `['NA']`.\n",
        "\n",
        "2. If the page has the text \"Born\", extract the element with the class `.bday`. If there is no \"Born\", store `False`. Store either of these into the variable `born`. \n",
        "\n",
        "3. If the text \"Years active\" is found, but there is no birthday, assume a band. Store the years active into the variable `ya`, or `False` if the text is not found. \n",
        "\n",
        "The information can be found below the artists image on each such wikipedia page, as the example here shows:\n",
        "\n",
        "\n",
        "![EdSheeran](https://drive.google.com/uc?export=view&id=1NJi2C-Gi5HPziuPxefNcjj5i4-04kuQ-)\n",
        "\n",
        "\n"
      ]
    },
    {
      "cell_type": "markdown",
      "metadata": {
        "id": "cmsucMYj31Ft"
      },
      "source": [
        "The dictionary returned should be of the form:\r\n",
        "```\r\n",
        "{ 'url': '/wiki/Boyz_II_Men', \r\n",
        "'genres': ['/wiki/Contemporary_R%26B_music', '/wiki/Soul_music', '/wiki/New_jack_swing'], \r\n",
        "'born': None, \r\n",
        "'ya': '1987–present'}\r\n",
        "```\r\n",
        "\r\n",
        "Wikipedia has changed it's format along the years! So observing one artist's webpage and building your function based on it will probably give you tons of errors. \r\n",
        "\r\n",
        "Here are a few issues to remember while parsing:\r\n",
        "\r\n",
        "1.   There are several artists that take a sabbatical between their active years (https://en.wikipedia.org/wiki/Tony!_Toni!_Ton%C3%A9!). To get the right data, write a function to calculate the longest period of time they were active and consider that as your variable `years active`. In the example give, this would be 2003–present.\r\n",
        "2.   Birthday's are given in different formats for different pages. For example - https://en.wikipedia.org/wiki/Sir_Mix-a-Lot and https://en.wikipedia.org/wiki/Ed_Sheeran have different formats. To ensure that you get the right day, look for the 'span' tag with a 'bday' tag and ensure that there are no paranthesis around the extracted text.\r\n",
        "3. Year's active are also given in different formats. For example - https://en.wikipedia.org/wiki/Boyz_II_Men and https://en.wikipedia.org/wiki/Ed_Sheeran are different. You could use regex (\"[0-9]{4}[–][0-9]{4}\" and \"[0-9]{4}[–][0-9]{4}\") to ensure you are getting the right years.<br> Report the edge cases found and why the Regex expression takes care of all these edge cases.\r\n",
        "\r\n",
        "Definitely do look at your outputs as you are parsing as it can identify several edge cases you have not considered in your code.\r\n",
        "\r\n",
        "\r\n",
        "\r\n",
        "\r\n"
      ]
    },
    {
      "cell_type": "markdown",
      "metadata": {
        "id": "wepOCDnV2H3p"
      },
      "source": [
        "Before parsing, it is important to note that Wikipedia has defined the same genre in a few different ways. Our parsing code will pick these up as different and new as they all differ with the alphabet case or an underscore instead of a hyphen.\r\n",
        "\r\n",
        "We have defined a function to ensure that we have the correct representation of the number of artists in a particular genre. "
      ]
    },
    {
      "cell_type": "code",
      "metadata": {
        "id": "QTSJHvJF3pxu"
      },
      "source": [
        "genres_duplicates={'/wiki/Adult_Contemporary_music':'/wiki/Adult_contemporary','/wiki/Adult_contemporary_music':'/wiki/Adult_contemporary',\r\n",
        "'/wiki/Afrobeat':'/wiki/Afrobeats',\r\n",
        "'/wiki/Alternative_rock':'/wiki/Alternative_Rock',\r\n",
        "'/wiki/Avant-garde':'/wiki/Avant-garde_music',\r\n",
        "'/wiki/Blues':'/wiki/Blues_music',\r\n",
        "'/wiki/Comedy_hip-hop':'/wiki/Comedy_hip_hop',\r\n",
        "'/wiki/Contemporary_R%26B':'/wiki/Contemporary_R%26B_music',\r\n",
        "'/wiki/Contemporary_folk':'/wiki/Contemporary_folk_music',\r\n",
        "'/wiki/Country_Folk':'/wiki/Country_folk',\r\n",
        "'/wiki/Dance_pop':'/wiki/Dance-pop',\r\n",
        "'/wiki/East_Coast_hip_hop':'/wiki/East_coast_hip_hop',\r\n",
        "'/wiki/Electronic_Dance_Music':'/wiki/Electronic_dance_music',\r\n",
        "'/wiki/Electronica':'/wiki/Electronica_music',\r\n",
        "'/wiki/Emo':'/wiki/Emo_music',\r\n",
        "'/wiki/Electropop':'/wiki/Electro-pop',\r\n",
        "'/wiki/Folk-pop':'/wiki/Folk_pop',\r\n",
        "'/wiki/Funk':'/wiki/Funk_music',\r\n",
        "'/wiki/Grime_(music_genre)':'/wiki/Grime_music',\r\n",
        "'/wiki/Gangsta_Rap':'/wiki/Gangsta_rap',\r\n",
        "'/wiki/Hip_Hop_music': '/wiki/Hip_hop','/wiki/Hip_hop_music':'/wiki/Hip_hop',\r\n",
        "'/wiki/Hyphy':'/wiki/Hyphy_music',\r\n",
        "'/wiki/Latin_music':'/wiki/Latin_music_(genre)',\r\n",
        "'/wiki/West_Coast_hip_hop':'/wiki/West_coast_hip_hop',\r\n",
        "'/wiki/Southern_Hip_Hop':'/wiki/Southern_hip_hop',\r\n",
        "'/wiki/Ska':'/wiki/Ska_music',\r\n",
        "'/wiki/Pop-rock':'/wiki/Pop_rock',\r\n",
        "'/wiki/Pop_Music':'/wiki/Pop_music',\r\n",
        "'/wiki/Nu_metal':'/wiki/Nu_metal_music'}\r\n",
        "\r\n",
        "def genre_duplicates(genres):\r\n",
        "    for i in range(len(genres)):\r\n",
        "        if genres[i] in genres_duplicates.keys():\r\n",
        "            genres[i]=genres_duplicates[genres[i]]\r\n",
        "    return genres "
      ],
      "execution_count": null,
      "outputs": []
    },
    {
      "cell_type": "markdown",
      "metadata": {
        "id": "w955jc_x7oSS"
      },
      "source": [
        "Define a function to calculate the longest active years"
      ]
    },
    {
      "cell_type": "markdown",
      "metadata": {
        "id": "C30IKrh_lm89"
      },
      "source": [
        "Please write the function `singer_band_info` according to the following specification:"
      ]
    },
    {
      "cell_type": "code",
      "metadata": {
        "id": "144RCE17lm9C",
        "jupyter": {
          "outputs_hidden": false
        }
      },
      "source": [
        "\"\"\"\n",
        "Function\n",
        "--------\n",
        "singer_band_info\n",
        "\n",
        "Inputs\n",
        "------\n",
        "url: the url\n",
        "page_text: the text associated with the url\n",
        "   \n",
        "Returns\n",
        "-------\n",
        "A dictionary with the following data:\n",
        "    url: copy the input argument url into this value\n",
        "    genres: the genres that the band or singer works in\n",
        "    born: the artist's birthday\n",
        "    ya: years active variable\n",
        "\n",
        "Notes\n",
        "-----\n",
        "See description above. Also note that some of the genres urls might require a \n",
        "bit of care and special handling.\n",
        "\"\"\"\n",
        "\n",
        "#your code here\n",
        "import bs4 \n",
        "\n",
        "def singer_band_info(url, page_text):\n",
        "    \n",
        "    born = False\n",
        "    ya = False\n",
        "    soup = BeautifulSoup(page_text,'html.parser') \n",
        "    table_strings = [th.string for th in soup.find_all('th')]\n",
        "    \n",
        "    #get and clean year born data\n",
        "    if \"Born\" in table_strings:\n",
        "        year_born_td = [tr.td for tr in soup.find_all('tr') if\n",
        "                        tr.th and tr.th.string == 'Born'][0]\n",
        "        for child in year_born_td.children:\n",
        "            span = child.find('span')\n",
        "\n",
        "            try:\n",
        "         \n",
        "              if type(span) == bs4.element.Tag and span.span:\n",
        "                  born = span.span.string\n",
        "\n",
        "              \n",
        "              elif type(span) == bs4.element.Tag and span['class'] == ['bday']:\n",
        "                  born = span.string  \n",
        "\n",
        "            except:\n",
        "              born = ''\n",
        "                \n",
        "    #get and clean year active data   \n",
        "    elif \"Years active\" in table_strings:\n",
        "        years_active_td = [tr.td for tr in soup.find_all('tr') if \n",
        "                        tr.th and tr.th.string == 'Years active'][0] \n",
        "        \n",
        "        if years_active_td.string:\n",
        "            ya = years_active_td.string.split(\"–\")\n",
        "       \n",
        "        elif not years_active_td.find_all('li'):\n",
        "            ya = [date for date in years_active_td.contents \n",
        "                  if type(date) == bs4.element.NavigableString]\n",
        "     \n",
        "        else:\n",
        "            ya = []\n",
        "            for li in years_active_td.find_all('li'):\n",
        "                ya += [date for date in li.contents \n",
        "                       if type(date) == bs4.element.NavigableString]\n",
        "                if len(ya) == 1:\n",
        "                    ya = ya[0].split('–')\n",
        "\n",
        "    if \"Genres\" in table_strings:\n",
        "      genres_td = [tr.td for tr in soup.find_all('tr') if tr.th and tr.th.string == 'Genres'][0]\n",
        "      temp_list = []\n",
        "\n",
        "      for ge in genres_td.find_all('li'):\n",
        "        try:\n",
        "          temp_list.append(ge.contents[0]['href'])\n",
        "        except:\n",
        "          temp_list = []\n",
        "\n",
        "    else:\n",
        "      temp_list = []\n",
        "\n",
        "    return {\"url\": url, \"born\": born,\"ya\": ya, 'genres' : temp_list}\n",
        "  \n",
        "band_singer_info_df = pd.DataFrame(columns =['url', 'born', 'ya','genres'])\n",
        "\n",
        "\n",
        "for key, value in urlcache.items():\n",
        "    if type(value) != int:\n",
        "        band_singer_info_df = band_singer_info_df.append(singer_band_info(key, value), ignore_index = True)"
      ],
      "execution_count": null,
      "outputs": []
    },
    {
      "cell_type": "code",
      "metadata": {
        "id": "8pHofD9LY-Pf"
      },
      "source": [
        "for c in band_singer_info_df['genres'].loc[0].children:\r\n",
        "  temp = c.find_all('a')\r\n",
        "\r\n",
        "[t['href' for t in temp]\r\n",
        "  "
      ],
      "execution_count": null,
      "outputs": []
    },
    {
      "cell_type": "code",
      "metadata": {
        "colab": {
          "base_uri": "https://localhost:8080/",
          "height": 198
        },
        "id": "IjRYTF_0149S",
        "outputId": "cbe1b434-a6c9-44d6-d821-08dfa7788cb6"
      },
      "source": [
        "band_singer_info_df.head()"
      ],
      "execution_count": null,
      "outputs": [
        {
          "output_type": "execute_result",
          "data": {
            "text/html": [
              "<div>\n",
              "<style scoped>\n",
              "    .dataframe tbody tr th:only-of-type {\n",
              "        vertical-align: middle;\n",
              "    }\n",
              "\n",
              "    .dataframe tbody tr th {\n",
              "        vertical-align: top;\n",
              "    }\n",
              "\n",
              "    .dataframe thead th {\n",
              "        text-align: right;\n",
              "    }\n",
              "</style>\n",
              "<table border=\"1\" class=\"dataframe\">\n",
              "  <thead>\n",
              "    <tr style=\"text-align: right;\">\n",
              "      <th></th>\n",
              "      <th>url</th>\n",
              "      <th>born</th>\n",
              "      <th>ya</th>\n",
              "      <th>genres</th>\n",
              "    </tr>\n",
              "  </thead>\n",
              "  <tbody>\n",
              "    <tr>\n",
              "      <th>0</th>\n",
              "      <td>/wiki/Boyz_II_Men</td>\n",
              "      <td>False</td>\n",
              "      <td>[1987–present]</td>\n",
              "      <td>[/wiki/Contemporary_R%26B, /wiki/New_jack_swin...</td>\n",
              "    </tr>\n",
              "    <tr>\n",
              "      <th>1</th>\n",
              "      <td>/wiki/Ugly_Kid_Joe</td>\n",
              "      <td>False</td>\n",
              "      <td>[1987, 1997, 2010–present]</td>\n",
              "      <td>[/wiki/Hard_rock, /wiki/Heavy_metal_music, /wi...</td>\n",
              "    </tr>\n",
              "    <tr>\n",
              "      <th>2</th>\n",
              "      <td>/wiki/The_Cure</td>\n",
              "      <td>False</td>\n",
              "      <td>[1978, present]</td>\n",
              "      <td>[]</td>\n",
              "    </tr>\n",
              "    <tr>\n",
              "      <th>3</th>\n",
              "      <td>/wiki/Bryan_Adams</td>\n",
              "      <td>1959-11-05</td>\n",
              "      <td>False</td>\n",
              "      <td>[/wiki/Rock_music, /wiki/Pop_rock, /wiki/Soft_...</td>\n",
              "    </tr>\n",
              "    <tr>\n",
              "      <th>4</th>\n",
              "      <td>/wiki/Marky_Mark_and_the_Funky_Bunch</td>\n",
              "      <td>False</td>\n",
              "      <td>[1991, 1993]</td>\n",
              "      <td>[/wiki/Hip_hop_music, /wiki/Eurodance, /wiki/N...</td>\n",
              "    </tr>\n",
              "  </tbody>\n",
              "</table>\n",
              "</div>"
            ],
            "text/plain": [
              "                                    url  ...                                             genres\n",
              "0                     /wiki/Boyz_II_Men  ...  [/wiki/Contemporary_R%26B, /wiki/New_jack_swin...\n",
              "1                    /wiki/Ugly_Kid_Joe  ...  [/wiki/Hard_rock, /wiki/Heavy_metal_music, /wi...\n",
              "2                        /wiki/The_Cure  ...                                                 []\n",
              "3                     /wiki/Bryan_Adams  ...  [/wiki/Rock_music, /wiki/Pop_rock, /wiki/Soft_...\n",
              "4  /wiki/Marky_Mark_and_the_Funky_Bunch  ...  [/wiki/Hip_hop_music, /wiki/Eurodance, /wiki/N...\n",
              "\n",
              "[5 rows x 4 columns]"
            ]
          },
          "metadata": {
            "tags": []
          },
          "execution_count": 112
        }
      ]
    },
    {
      "cell_type": "markdown",
      "metadata": {
        "id": "O42ei5C9lm9Q"
      },
      "source": [
        "Let's iterate over the items in the singer-group dictionary cache `urlcache`, run the above function, and create a list.\r\n",
        "\r\n",
        "Each element in this list is the dictionary that the function `singer_band_info` returns. \r\n",
        "\r\n",
        "The list should look something like this:\r\n",
        "```\r\n",
        "  'genres': ['/wiki/Contemporary_R%26B_music',\r\n",
        "   '/wiki/Soul_music',\r\n",
        "   '/wiki/New_jack_swing'],\r\n",
        "  'url': '/wiki/Boyz_II_Men',\r\n",
        "  'ya': '1987–present'},\r\n",
        " {'born': None,\r\n",
        "  'genres': ['/wiki/Pop_music',\r\n",
        "   '/wiki/Electronica_music',\r\n",
        "   '/wiki/Dance_music',\r\n",
        "   '/wiki/Rave_music',\r\n",
        "   '/wiki/House_music'],\r\n",
        "  'url': '/wiki/KWS_(band)',\r\n",
        "  'ya': '1991–1994'},\r\n",
        " ... and so on]\r\n",
        "  ```"
      ]
    },
    {
      "cell_type": "code",
      "metadata": {
        "id": "EYZCt97qlm9J",
        "jupyter": {
          "outputs_hidden": false
        },
        "scrolled": true
      },
      "source": [
        "#your code here\n",
        "\n",
        "\n"
      ],
      "execution_count": null,
      "outputs": []
    },
    {
      "cell_type": "code",
      "metadata": {
        "id": "hN0xOthZUsaY",
        "colab": {
          "base_uri": "https://localhost:8080/",
          "height": 215
        },
        "outputId": "39dcf2ba-827b-4846-d27b-b457b146630e"
      },
      "source": [
        "#Store the list and delete the variable\r\n",
        "with open(\"singer_band_info_list.json\",\"w\") as fd:\r\n",
        "    json.dump(singer_band_info_list, fd)\r\n",
        "del singer_band_info_list"
      ],
      "execution_count": null,
      "outputs": [
        {
          "output_type": "error",
          "ename": "NameError",
          "evalue": "ignored",
          "traceback": [
            "\u001b[0;31m---------------------------------------------------------------------------\u001b[0m",
            "\u001b[0;31mNameError\u001b[0m                                 Traceback (most recent call last)",
            "\u001b[0;32m<ipython-input-90-06234e6872a0>\u001b[0m in \u001b[0;36m<module>\u001b[0;34m()\u001b[0m\n\u001b[1;32m      1\u001b[0m \u001b[0;31m#Store the list and delete the variable\u001b[0m\u001b[0;34m\u001b[0m\u001b[0;34m\u001b[0m\u001b[0;34m\u001b[0m\u001b[0m\n\u001b[1;32m      2\u001b[0m \u001b[0;32mwith\u001b[0m \u001b[0mopen\u001b[0m\u001b[0;34m(\u001b[0m\u001b[0;34m\"singer_band_info_list.json\"\u001b[0m\u001b[0;34m,\u001b[0m\u001b[0;34m\"w\"\u001b[0m\u001b[0;34m)\u001b[0m \u001b[0;32mas\u001b[0m \u001b[0mfd\u001b[0m\u001b[0;34m:\u001b[0m\u001b[0;34m\u001b[0m\u001b[0;34m\u001b[0m\u001b[0m\n\u001b[0;32m----> 3\u001b[0;31m     \u001b[0mjson\u001b[0m\u001b[0;34m.\u001b[0m\u001b[0mdump\u001b[0m\u001b[0;34m(\u001b[0m\u001b[0msinger_band_info_list\u001b[0m\u001b[0;34m,\u001b[0m \u001b[0mfd\u001b[0m\u001b[0;34m)\u001b[0m\u001b[0;34m\u001b[0m\u001b[0;34m\u001b[0m\u001b[0m\n\u001b[0m\u001b[1;32m      4\u001b[0m \u001b[0;32mdel\u001b[0m \u001b[0msinger_band_info_list\u001b[0m\u001b[0;34m\u001b[0m\u001b[0;34m\u001b[0m\u001b[0m\n",
            "\u001b[0;31mNameError\u001b[0m: name 'singer_band_info_list' is not defined"
          ]
        }
      ]
    },
    {
      "cell_type": "code",
      "metadata": {
        "id": "kze3PT80yvuT"
      },
      "source": [
        "#Load the list into a variable\r\n",
        "with open(\"/content/gdrive/MyDrive/DS-1/HW-1/singer_band_info.json\") as json_file:\r\n",
        "    singer_band_info_list = json.load(json_file)"
      ],
      "execution_count": null,
      "outputs": []
    },
    {
      "cell_type": "markdown",
      "metadata": {
        "id": "NFBbluyq_xUg"
      },
      "source": [
        "Create a dataframe from the list `singer_band_info_list`."
      ]
    },
    {
      "cell_type": "code",
      "metadata": {
        "id": "l2Jq1tIhlm9X",
        "jupyter": {
          "outputs_hidden": false
        },
        "scrolled": true,
        "colab": {
          "base_uri": "https://localhost:8080/",
          "height": 198
        },
        "outputId": "e122300b-1de6-4263-9097-a34b17324202"
      },
      "source": [
        "#your code here\n",
        "df_singer = pd.DataFrame.from_dict(singer_ban_info_list)\n",
        "\n"
      ],
      "execution_count": null,
      "outputs": [
        {
          "output_type": "error",
          "ename": "NameError",
          "evalue": "ignored",
          "traceback": [
            "\u001b[0;31m---------------------------------------------------------------------------\u001b[0m",
            "\u001b[0;31mNameError\u001b[0m                                 Traceback (most recent call last)",
            "\u001b[0;32m<ipython-input-89-beb26c8bc6a8>\u001b[0m in \u001b[0;36m<module>\u001b[0;34m()\u001b[0m\n\u001b[1;32m      1\u001b[0m \u001b[0;31m#your code here\u001b[0m\u001b[0;34m\u001b[0m\u001b[0;34m\u001b[0m\u001b[0;34m\u001b[0m\u001b[0m\n\u001b[0;32m----> 2\u001b[0;31m \u001b[0mdf_singer\u001b[0m \u001b[0;34m=\u001b[0m \u001b[0mpd\u001b[0m\u001b[0;34m.\u001b[0m\u001b[0mDataFrame\u001b[0m\u001b[0;34m.\u001b[0m\u001b[0mfrom_dict\u001b[0m\u001b[0;34m(\u001b[0m\u001b[0msinger_ban_info_list\u001b[0m\u001b[0;34m)\u001b[0m\u001b[0;34m\u001b[0m\u001b[0;34m\u001b[0m\u001b[0m\n\u001b[0m\u001b[1;32m      3\u001b[0m \u001b[0;34m\u001b[0m\u001b[0m\n",
            "\u001b[0;31mNameError\u001b[0m: name 'singer_ban_info_list' is not defined"
          ]
        }
      ]
    },
    {
      "cell_type": "markdown",
      "metadata": {
        "id": "r33k0Rv9lm9M"
      },
      "source": [
        "## Q4: Merging Artist's and Song dataframes\n",
        "#### [15 points]"
      ]
    },
    {
      "cell_type": "markdown",
      "metadata": {
        "id": "qK8nFxMblm9d"
      },
      "source": [
        "Now, merge the artist/song data frames into one large dataframe. Note that this has an effect of imputing to a song **all the genres** that the artist is active in. We know that this is not true, but it is the simplest assumption we can make, and is probably good for most artists. "
      ]
    },
    {
      "cell_type": "code",
      "metadata": {
        "id": "zXmWArJllm9h",
        "jupyter": {
          "outputs_hidden": false
        },
        "scrolled": true
      },
      "source": [
        "#your code here\n",
        "\n",
        "\n"
      ],
      "execution_count": null,
      "outputs": []
    },
    {
      "cell_type": "markdown",
      "metadata": {
        "id": "XWlzfSxelm9y"
      },
      "source": [
        "Update the dataframe by adding a column for each genre with 1-0 encoding for each row. This means, we want columns like \"/wiki/Alternative_Rock\", \"/wiki/Acid_jazz\", where if an artist is in that genre, the dataframe cell has a 1. Otherwise, it has a 0.\n",
        "\n",
        "Remember that an artist/band can be in multiple genres, and must have a 1 for each column corresponding to these genres, and 0 otherwise.\n",
        "\n",
        "This will widen the dataframe by the total number of genres that we have. The expanded part will look a bit like this:\n",
        "\n",
        "![largedfexample](https://drive.google.com/uc?export=view&id=1YgIVsyjWLXIAipI5dF2H4fvAmQodpE8L)\n"
      ]
    },
    {
      "cell_type": "code",
      "metadata": {
        "id": "oh1QgHeTlm92",
        "jupyter": {
          "outputs_hidden": false
        }
      },
      "source": [
        "#your code here\n",
        "\n",
        "\n",
        "\n"
      ],
      "execution_count": null,
      "outputs": []
    },
    {
      "cell_type": "markdown",
      "metadata": {
        "id": "OTAqUUSFTOlg"
      },
      "source": [
        "Ensure the data types of the dataframe is correct"
      ]
    },
    {
      "cell_type": "code",
      "metadata": {
        "id": "BUFfkyyKusfS"
      },
      "source": [
        "#your code here\r\n",
        "\r\n",
        "\r\n"
      ],
      "execution_count": null,
      "outputs": []
    },
    {
      "cell_type": "code",
      "metadata": {
        "id": "9M9HSYg_W-1G"
      },
      "source": [
        "#Store the dataframe to use in HW-2 \r\n",
        "largedf.to_pickle('/content/largedf')\r\n",
        "del largedf"
      ],
      "execution_count": null,
      "outputs": []
    },
    {
      "cell_type": "code",
      "metadata": {
        "id": "VzDU-GJ-BjtJ"
      },
      "source": [
        "#Loading in dataframe\r\n",
        "largedf = pd.read_pickle('/content/gdrive/MyDrive/DS-1 /HW-1/largedf')\r\n",
        "largedf.head()"
      ],
      "execution_count": null,
      "outputs": []
    },
    {
      "cell_type": "markdown",
      "metadata": {
        "id": "v7mvhskZlm-W"
      },
      "source": [
        "## Q5: Pandas and Relational databases\n",
        "#### [20 points]"
      ]
    },
    {
      "cell_type": "markdown",
      "metadata": {
        "id": "EBJ95eXwlm-i"
      },
      "source": [
        "### 5.1 Populating the database"
      ]
    },
    {
      "cell_type": "markdown",
      "metadata": {
        "id": "VTdi6of6lm-n"
      },
      "source": [
        "We use sqlite3 here. There is an even higher level API available, called SQLAlchemy.  However SQLite is built into Python and also has a command line tool and sqlite browser that you can install. "
      ]
    },
    {
      "cell_type": "code",
      "metadata": {
        "id": "jA6D06EwFiqF"
      },
      "source": [
        "import sqlite3 as sql"
      ],
      "execution_count": null,
      "outputs": []
    },
    {
      "cell_type": "code",
      "metadata": {
        "id": "nW8pFEzaaHDv"
      },
      "source": [
        ""
      ],
      "execution_count": null,
      "outputs": []
    },
    {
      "cell_type": "markdown",
      "metadata": {
        "id": "KMIIU4Q8FmkE"
      },
      "source": [
        "Let us start by creating our schema to set the type of each column in our dataframe."
      ]
    },
    {
      "cell_type": "code",
      "metadata": {
        "id": "EaU9NgFxKdL3",
        "colab": {
          "base_uri": "https://localhost:8080/",
          "height": 198
        },
        "outputId": "5eb34dcc-8d5c-4626-dc7a-a750332cdcf3"
      },
      "source": [
        "#your code here \r\n",
        "#ourschema=' '\r\n",
        "\r\n",
        "#lets create a schema to work on our data using SQL\r\n",
        "ourschema=\"\"\"\r\n",
        "DROP TABLE IF EXISTS \"largedf\";\r\n",
        "CREATE TABLE \"largedf\" (\r\n",
        "    \"year\" INTEGER\r\n",
        "    \"band_singer\" VARCHAR,\r\n",
        "    \"url\" \r\n",
        "    \"song\" VARCHAR,\r\n",
        "    \"songurl\" \r\n",
        "    \"ranking\" INTEGER\r\n",
        "    \"born\" DATETIME NOT NULL\r\n",
        "    \"ya\" VARCHAR\r\n",
        ");\r\n",
        "\r\n",
        "\"\"\""
      ],
      "execution_count": null,
      "outputs": [
        {
          "output_type": "error",
          "ename": "NameError",
          "evalue": "ignored",
          "traceback": [
            "\u001b[0;31m---------------------------------------------------------------------------\u001b[0m",
            "\u001b[0;31mNameError\u001b[0m                                 Traceback (most recent call last)",
            "\u001b[0;32m<ipython-input-85-ed061e215c95>\u001b[0m in \u001b[0;36m<module>\u001b[0;34m()\u001b[0m\n\u001b[1;32m      2\u001b[0m \u001b[0;31m#ourschema=' '\u001b[0m\u001b[0;34m\u001b[0m\u001b[0;34m\u001b[0m\u001b[0;34m\u001b[0m\u001b[0m\n\u001b[1;32m      3\u001b[0m \u001b[0;32mimport\u001b[0m \u001b[0msqlite3\u001b[0m \u001b[0;32mas\u001b[0m \u001b[0msql\u001b[0m\u001b[0;34m\u001b[0m\u001b[0;34m\u001b[0m\u001b[0m\n\u001b[0;32m----> 4\u001b[0;31m \u001b[0mconn\u001b[0m \u001b[0;34m=\u001b[0m \u001b[0msqlite3\u001b[0m\u001b[0;34m.\u001b[0m\u001b[0mconnect\u001b[0m\u001b[0;34m(\u001b[0m\u001b[0mdb\u001b[0m\u001b[0;34m)\u001b[0m\u001b[0;34m\u001b[0m\u001b[0;34m\u001b[0m\u001b[0m\n\u001b[0m",
            "\u001b[0;31mNameError\u001b[0m: name 'sqlite3' is not defined"
          ]
        }
      ]
    },
    {
      "cell_type": "markdown",
      "metadata": {
        "id": "MNaaiKo4FKvi"
      },
      "source": [
        "Next, create a connection object which will connect us to the database and will let us execute the SQL statements. \r\n",
        "Create an object of the cursor using the connection object and execute our schema. \r\n",
        "Finally, use the `to_sql` function and convert our large expanded dataframe from the last section to a table."
      ]
    },
    {
      "cell_type": "code",
      "metadata": {
        "id": "qLOXLo2VHS52"
      },
      "source": [
        "#your code here\r\n",
        "#connect\r\n",
        "from sqlite3 import dbapi2 as sq3\r\n",
        "from pathlib import Path\r\n",
        "PATHSTART=\".\"\r\n",
        "def get_db(dbfile):\r\n",
        "    sqlite_db = sq3.connect(Path(PATHSTART) / dbfile)\r\n",
        "    return sqlite_db\r\n"
      ],
      "execution_count": null,
      "outputs": []
    },
    {
      "cell_type": "code",
      "metadata": {
        "id": "CkHZQ1ewarQD"
      },
      "source": [
        "def init_db(dbfile, schema):\n",
        "    db = get_db(dbfile) \n",
        "    db.cursor().executescript(schema)\n",
        "    db.commit()\n",
        "    return db"
      ],
      "execution_count": null,
      "outputs": []
    },
    {
      "cell_type": "code",
      "metadata": {
        "id": "czubcH7cbSHb"
      },
      "source": [
        "#Converts into a SQL Database\n",
        "dfcand.to_sql(\"largedf\", db, if_exists=\"append\", index=False)"
      ],
      "execution_count": null,
      "outputs": []
    },
    {
      "cell_type": "markdown",
      "metadata": {
        "id": "lg-gMIZTlm_B"
      },
      "source": [
        "### 5.2 Performing operations on the database"
      ]
    },
    {
      "cell_type": "markdown",
      "metadata": {
        "id": "Ddf94jAUOjJf"
      },
      "source": [
        "Answer the following questions by writing SQL statements."
      ]
    },
    {
      "cell_type": "markdown",
      "metadata": {
        "id": "9ptRH0PRHq10"
      },
      "source": [
        "#### 5.2.1 Select all singers below the age of 20 whos Zodiac Sign is Scorpio! "
      ]
    },
    {
      "cell_type": "code",
      "metadata": {
        "id": "YyuqKAuAF5ZQ"
      },
      "source": [
        "#your code here\r\n",
        "#scorpio dataes from October 23 to November 21.\r\n",
        "#we need to seperate the born into month/day/year\r\n",
        "\r\n",
        "#singer_Scorpio = make_query(\"SELECT singer * FROM largedf WHERE (born-2021)>20 \")\r\n",
        "#make_frame(out, legend=largedf_cols)\r\n",
        "SELECT singer, \r\n",
        "FROM largedf \r\n",
        "WHERE (2021-born)>20;\r\n",
        "\r\n"
      ],
      "execution_count": null,
      "outputs": []
    },
    {
      "cell_type": "markdown",
      "metadata": {
        "id": "vkU3G3UDH6yn"
      },
      "source": [
        "#### 5.2.2 Find the most popular artists with most appearances in Billboard Top 10"
      ]
    },
    {
      "cell_type": "code",
      "metadata": {
        "id": "Dh74afqzGjXb"
      },
      "source": [
        "#your code here\r\n",
        "# most_pop = make_query(\"SELECT singer * FROM largedf WHERE ranking <10 or ranking == 10\")\r\n",
        "# make_frame(out, legend=largedf_cols)\r\n",
        "SELECT singer,\r\n",
        "FROM largedf \r\n",
        "WHERE ranking <10 or ranking == 10;\r\n"
      ],
      "execution_count": null,
      "outputs": []
    },
    {
      "cell_type": "markdown",
      "metadata": {
        "id": "bhy0LnUiIIjE"
      },
      "source": [
        "#### 5.2.3 Select all songs with ranking less than 6 and order the rows by artist name"
      ]
    },
    {
      "cell_type": "code",
      "metadata": {
        "id": "_MolYEOfIHTZ"
      },
      "source": [
        "#your code here \r\n",
        "# ranking_less_than_6 = make_query(\"SELECT song * FROM largedf WHERE ranking <10 or ranking == 10\")\r\n",
        "# make_frame(out, legend=largedf_cols)\r\n",
        "SELECT song,\r\n",
        "FROM largedf \r\n",
        "WHERE ranking <10 or ranking == 10;\r\n",
        "\r\n"
      ],
      "execution_count": null,
      "outputs": []
    },
    {
      "cell_type": "code",
      "metadata": {
        "id": "LD8PC24kNbVI"
      },
      "source": [
        ""
      ],
      "execution_count": null,
      "outputs": []
    }
  ]
}